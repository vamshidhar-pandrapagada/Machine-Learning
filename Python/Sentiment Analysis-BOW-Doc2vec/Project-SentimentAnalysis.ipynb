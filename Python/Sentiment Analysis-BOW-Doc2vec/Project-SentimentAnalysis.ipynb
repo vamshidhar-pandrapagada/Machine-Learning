{
 "cells": [
  {
   "cell_type": "markdown",
   "metadata": {},
   "source": [
    "# Supervised Learning Techniques for Sentiment Analytics\n",
    "### Data Science Program - Final Capstone Project\n",
    "### By - Vamshidhar Pandrapagada"
   ]
  },
  {
   "cell_type": "markdown",
   "metadata": {},
   "source": [
    "In this project, we'll perform sentiment analysis over IMDB movie reviews and Twitter data using Supervised learning\n",
    "techniques. The goal is to classify these labeled data sets as either positive or negative on training data set and evaluate accuracy of the model on unseen Testing data.\n",
    "\n",
    "For classification, major part of this project is the task of generating feature vectors using 2 techniques below:\n",
    "\n",
    "1. Generate Fixed length Feature vectors with traditional Natural Language Processing Techniques (Like Bag of Words Model).\n",
    "2. Generate Feature vectors using Unsupervised Learning Algorithm called Doc2Vec. \n",
    "\n",
    "The feature vectors generated using the above two techniques will be used for classification using Naive Bayes and Logistic-Regression  from python’s well-regarded machine learning package scikit-learn and 4 Layer Feed forward Neural Network using Tensorflow."
   ]
  },
  {
   "cell_type": "markdown",
   "metadata": {},
   "source": [
    "### More on the Data Sets\n",
    "\n",
    "The IMDB reviews and Tweets can be found in the data folder. These have already been divided into train and test sets.\n",
    "\n",
    "- The [IMDB dataset](http://ai.stanford.edu/~amaas/data/sentiment/) that contains 50,000 reviews split evenly into 25k train and 25k test sets. Overall, there are 25k positive and 25k negative reviews.\n",
    "    1. Postive review means that a movie was rated with a score of minimum 7 out of 10.\n",
    "    2. Negative review has a score of less than or equal to 4 out of 10.\n",
    "    3. Reviews with neutral rating are not included in the Train/Test sets.  \n",
    "  \n",
    "  \n",
    "- The [Twitter Dataset](http://thinknook.com/twitter-sentiment-analysis-training-corpus-dataset-2012-09-22/) contains 900,000 classified tweets split into 750k train and 150k test sets. The overall distribution of labels is balanced (450k pos and 450k neg)."
   ]
  },
  {
   "cell_type": "markdown",
   "metadata": {},
   "source": [
    "### Project Setup\n",
    "The python packages we'll need for this project are scikit-learn , nltk , tensorflow and gensim . To install these, simply use the pip installer - **sudo pip install X** or, if using Anaconda - **conda install X**. X is the package name."
   ]
  },
  {
   "cell_type": "code",
   "execution_count": 17,
   "metadata": {
    "collapsed": false
   },
   "outputs": [],
   "source": [
    "import sklearn.naive_bayes as NB\n",
    "import sklearn.linear_model as LR\n",
    "import nltk\n",
    "import random\n",
    "import numpy as np\n",
    "import pandas as pd\n",
    "import pyprind\n",
    "random.seed(0)\n",
    "import os\n",
    "from gensim.models.doc2vec import LabeledSentence, Doc2Vec\n",
    "from sklearn.metrics import confusion_matrix\n",
    "from sklearn.cross_validation import train_test_split\n",
    "import tensorflow as tf\n",
    "import re\n",
    "from collections import Counter\n",
    "from sklearn.feature_extraction.text import TfidfTransformer\n",
    "from bokeh.models import ColumnDataSource, LabelSet\n",
    "from bokeh.plotting import figure, show, output_file\n",
    "from bokeh.io import output_notebook\n",
    "import itertools\n",
    "import matplotlib.pyplot as plt\n",
    "import multiprocessing"
   ]
  },
  {
   "cell_type": "markdown",
   "metadata": {},
   "source": [
    "### Read Data from Directory\n",
    "\n",
    "The following function takes path to the directory as input and reads the data into Python memory.  \n",
    "\n",
    "- The path to the directory should contain the input data type to be read (Ex IMDB or Twitter). This data type will point to the appropriate directory when open command is invoked.\n",
    "\n",
    "#### Clean Text (only if the model type is NLP)\n",
    "- The first important step before creating the bag of words model is to clean the text data by stripping of all the unwanted characters (such as HTML markups, web urls, stop words, spaces etc.) which dont add any value to the sentiment of the text.\n",
    "- Emoticons created using special characters may have a role to play in sentiment analysis. We'll save these emoticons and strip of other unnecessary special characters.\n",
    "- Finally split the test corpora into individual words and return the word vectors.\n",
    "\n",
    "**Text Pre-Processing is not recommended for Doc2Vec Models**  --> Only remove URLS from text. Nothing else."
   ]
  },
  {
   "cell_type": "code",
   "execution_count": 3,
   "metadata": {
    "collapsed": false
   },
   "outputs": [],
   "source": [
    "def load_data(input_type, model_type):\n",
    "    \"\"\"\n",
    "    Loads the train and test set into four different lists.\n",
    "    \"\"\"\n",
    "    train_pos = []\n",
    "    train_neg = []\n",
    "    test_pos = []\n",
    "    test_neg = []\n",
    "    path_to_dir = os.getcwd()+\"\\\\data\\\\\" + input_type + \"\\\\\"\n",
    "    if (input_type == 'imdb'):\n",
    "        prog_bar_train = 12500\n",
    "        prog_bar_test = 12500\n",
    "    if (input_type == 'twitter'):\n",
    "        prog_bar_train = 375000\n",
    "        prog_bar_test = 75000\n",
    "        \n",
    "    def text_cleasing(line, model_type):\n",
    "        if (model_type == 'nlp'):\n",
    "            emoticons = re.findall('(?::|;|=)(?:-)?(?:\\)|\\(|D|P)', line.strip())\n",
    "            line = re.sub('[\\W]+',' ',line.lower()) + ' '.join(emoticons).replace('-','')\n",
    "        \n",
    "        #Remove URLs for both nlp and d2v\n",
    "        line = re.sub(r'\\w+:\\/{2}[\\d\\w-]+(\\.[\\d\\w-]+)*(?:(?:\\/[^\\s/]*))*', '', line.lower())\n",
    "        words = [w for w in line.strip().split() if len(w)>=3]\n",
    "        return words\n",
    "    \n",
    "      \n",
    "    print(\"Reading \" + input_type + \" Data Set\")\n",
    "    with open(path_to_dir+\"train-pos.txt\", \"r\", encoding=\"utf8\") as f:\n",
    "        pbar = pyprind.ProgBar(prog_bar_train)\n",
    "        for i,line in enumerate(f):\n",
    "            train_pos.append(text_cleasing(line, model_type))\n",
    "            pbar.update()\n",
    "    with open(path_to_dir+\"train-neg.txt\", \"r\", encoding=\"utf8\") as f:\n",
    "        pbar = pyprind.ProgBar(prog_bar_train)\n",
    "        for line in f:\n",
    "            train_neg.append(text_cleasing(line, model_type))\n",
    "            pbar.update()\n",
    "    with open(path_to_dir+\"test-pos.txt\", \"r\", encoding=\"utf8\") as f:\n",
    "        pbar = pyprind.ProgBar(prog_bar_test)\n",
    "        for line in f:\n",
    "            test_pos.append(text_cleasing(line, model_type))\n",
    "            pbar.update()\n",
    "    with open(path_to_dir+\"test-neg.txt\", \"r\", encoding=\"utf8\") as f:\n",
    "        pbar = pyprind.ProgBar(prog_bar_test)\n",
    "        for line in f:\n",
    "            test_neg.append(text_cleasing(line, model_type))          \n",
    "            pbar.update()\n",
    "\n",
    "    return train_pos, train_neg, test_pos, test_neg"
   ]
  },
  {
   "cell_type": "code",
   "execution_count": 4,
   "metadata": {
    "collapsed": true
   },
   "outputs": [],
   "source": [
    "def remove_stopwords(train_pos, train_neg, test_pos, test_neg):\n",
    "    \"\"\"\n",
    "    Returns the feature vectors for all text in the train and test datasets.\n",
    "    \"\"\"\n",
    "    # English stopwords from nltk\n",
    "    stopwords = set(nltk.corpus.stopwords.words('english'))\n",
    "       \n",
    "    # Determine a list of words that will be used as features. \n",
    "    # This list should have the following properties:\n",
    "    #   (1) Contains no stop words\n",
    "    #   (2) Is in at least 1% of the positive texts or 1% of the negative texts\n",
    "    #   (3) Is in at least twice as many postive texts as negative texts, or vice-versa.\n",
    "       \n",
    "    train_pos_clean = []\n",
    "    train_neg_clean = []\n",
    "    test_pos_clean = []\n",
    "    test_neg_clean = []    \n",
    "    \n",
    "    # Text Cleansing: Convert to lower case, remove stop words, remove special characters\n",
    "    for idx in range(len(train_pos)):\n",
    "        words = [word for word in train_pos[idx] if word not in stopwords]\n",
    "        train_pos_clean.append(words)\n",
    "    for idx in range(len(train_neg)):\n",
    "        words = [word for word in train_neg[idx] if word not in stopwords]\n",
    "        train_neg_clean.append(words)\n",
    "    for idx in range(len(test_pos)):\n",
    "        words = [word for word in test_pos[idx] if word not in stopwords]\n",
    "        test_pos_clean.append(words)\n",
    "    for idx in range(len(test_neg)):\n",
    "        words = [word for word in test_neg[idx] if word not in stopwords]\n",
    "        test_neg_clean.append(words)\n",
    "        \n",
    "    return train_pos_clean,train_neg_clean, test_pos_clean, test_neg_clean \n"
   ]
  },
  {
   "cell_type": "markdown",
   "metadata": {},
   "source": [
    "### Quick Data Validation\n",
    "Let's pause here and do a quick validation on how our IMDB And Twitter data looks like. The idea is to Reduce Noise by Strategically Reducing the Vocabulary. \n",
    "As discussed, Bag of words model creates a very spare matrix, This validation can help us cut down a lot of unneccessary tokens (which don't add any value to the mode) reducing the sparsity without exceeding computer's memory. This step also ensures a better model performance.\n",
    "\n",
    "Follow the steps below:  \n",
    "\n",
    "**Function_name : pre_process_data**\n",
    "\n",
    "- Examine the most common words.\n",
    "- If the word appears a minimum of n number of times (n can be decided after few trial and errors):\n",
    "    1. Check for word's appearance in POSITIVE vs NEGATIVE reviews.\n",
    "    2. Determine the POSITIVE vs NEGATIVE ratio.\n",
    "    3. If ratio is > 1, take log of the ratio. If < 1, take inverse Log.\n",
    "    4. Determine the Polarity cutoff to filter words based on Positive-Negative Ratio.\n",
    "    5. Add words to the vocabulary only if the word is outside of the range of Polarity Cutoff.\n",
    "    \n",
    "** More on Polarity Cut-off**  \n",
    "\n",
    "Using a polarity cut off value, we can trim the distribution by removing words that appear almost equally in both Positive and Negative reviews. This can be controlled by Polarity_cut_off parameter.\n",
    "\n",
    "**For example:  **\n",
    "\n",
    "If the word 'Hello' appears 50 times in POSITIVE Review and 49 times in NEGATIVE review, based on the logic mentioned above (also used in function pre_process_data), its POSITIVE to NEGATIVE ratio is 50/49. This ratio is > 1, hence its log (50/49) is 0.008.  \n",
    "\n",
    "Lets take another word \"movie\", if it appears 80 times in NEGATIVE review and 79 times in POSITIVE Review, based on the logic above, its POSITIVE to NEGATIVE ratio is 79/80. This ratio is < 1, hence its -log 1/((79/80)+0.01) is -0.001.  \n",
    "\n",
    "<img src=\"Normal.jpg\">\n",
    "\n",
    "\n",
    "Let's use a polarity cut off value as 0.1.  \n",
    "\n",
    "In the above picture, only words with Positive-Negative ratios that fall in the RED shaded region in the distribuition will be considered into our Bag-of-Words. In this example, words **\"Hello\"** and **\"Movie\"** will be ignored because they appear almost equally in both POSITIVE and NEGATIVE reviews.  \n",
    "\n",
    "\n",
    "\n",
    "Inspiration: [Deep Learning by Andrew W. Trask](https://www.manning.com/books/grokking-deep-learning)\n"
   ]
  },
  {
   "cell_type": "code",
   "execution_count": 5,
   "metadata": {
    "collapsed": false
   },
   "outputs": [],
   "source": [
    "def pre_process_data(train_pos_clean,train_neg_clean):\n",
    "    \n",
    "    positive_counts = Counter()\n",
    "    negative_counts = Counter()\n",
    "    total_counts = Counter()\n",
    "    pos_neg_ratios = Counter()\n",
    "    \n",
    "    for word_list in (train_pos_clean):\n",
    "        for word in word_list:\n",
    "            positive_counts[word] += 1\n",
    "            total_counts[word] += 1               \n",
    "    for word_list in (train_neg_clean):\n",
    "        for word in word_list:\n",
    "            negative_counts[word] += 1\n",
    "            total_counts[word] += 1   \n",
    "        \n",
    "    for word,cnt in list(total_counts.most_common()):\n",
    "        # Consider only if the word appears for more than 50 times\n",
    "        if(cnt > 50):\n",
    "            pos_neg_ratio = positive_counts[word] / float(negative_counts[word]+1)\n",
    "            pos_neg_ratios[word] = pos_neg_ratio\n",
    "\n",
    "    for word,ratio in pos_neg_ratios.most_common():\n",
    "        if(ratio > 1):\n",
    "            pos_neg_ratios[word] = np.log(ratio)\n",
    "        else:\n",
    "            pos_neg_ratios[word] = -np.log((1 / (ratio+0.01)))         \n",
    "  \n",
    "    return total_counts,positive_counts, negative_counts, pos_neg_ratios"
   ]
  },
  {
   "cell_type": "markdown",
   "metadata": {},
   "source": [
    "#### Read IMDB Data Set"
   ]
  },
  {
   "cell_type": "code",
   "execution_count": 19,
   "metadata": {
    "collapsed": false
   },
   "outputs": [
    {
     "name": "stdout",
     "output_type": "stream",
     "text": [
      "Reading imdb Data Set\n"
     ]
    },
    {
     "name": "stderr",
     "output_type": "stream",
     "text": [
      "0% [##############################] 100% | ETA: 00:00:00\n",
      "Total time elapsed: 00:00:03\n",
      "0% [##############################] 100% | ETA: 00:00:00\n",
      "Total time elapsed: 00:00:03\n",
      "0% [##############################] 100% | ETA: 00:00:00\n",
      "Total time elapsed: 00:00:03\n",
      "0% [##############################] 100% | ETA: 00:00:00\n",
      "Total time elapsed: 00:00:03\n"
     ]
    }
   ],
   "source": [
    "train_pos, train_neg, test_pos, test_neg = load_data('imdb','nlp')\n",
    "train_pos_clean,train_neg_clean, test_pos_clean, test_neg_clean  = remove_stopwords(train_pos, train_neg, test_pos, test_neg)"
   ]
  },
  {
   "cell_type": "markdown",
   "metadata": {},
   "source": [
    "**Most Common words used in IMDB POSITIVE reviews**  \n",
    "\n",
    "As you scroll down, the ratio decreases from positive to negative number and moves towards the center of the distribution (see the plot below). Lesser the ratio, more likely that the word is also highly used in NEGATIVE reviews.  \n",
    "\n",
    "Ratio closer to 0 means that the word is almost equally used in both reviews."
   ]
  },
  {
   "cell_type": "code",
   "execution_count": 20,
   "metadata": {
    "collapsed": false
   },
   "outputs": [
    {
     "data": {
      "text/plain": [
       "[('antwone', 4.4773368144782069),\n",
       " ('din', 4.4067192472642533),\n",
       " ('gunga', 4.1896547420264252),\n",
       " ('goldsworthy', 4.1743872698956368),\n",
       " ('gypo', 4.0943445622221004),\n",
       " ('yokai', 4.0943445622221004),\n",
       " ('paulie', 4.0775374439057197),\n",
       " ('visconti', 3.9318256327243257),\n",
       " ('flavia', 3.9318256327243257),\n",
       " ('gundam', 3.4231762883809305),\n",
       " ('iturbi', 3.2771447329921766),\n",
       " ('felix', 3.1527360223636558),\n",
       " ('capote', 3.0122615755052013),\n",
       " ('fido', 3.0081547935525483),\n",
       " ('excellently', 2.9789251552376097),\n",
       " ('vance', 2.9444389791664403),\n",
       " ('kolchak', 2.9311937524164198),\n",
       " ('deanna', 2.9267394020670396),\n",
       " ('hayworth', 2.9267394020670396),\n",
       " ('sammo', 2.8526314299133175),\n",
       " ('biko', 2.8332133440562162),\n",
       " ('sox', 2.8332133440562162),\n",
       " ('laputa', 2.8332133440562162),\n",
       " ('polanski', 2.8233610476132043),\n",
       " ('alvin', 2.8183982582710754),\n",
       " ('matthau', 2.8067217286092401),\n",
       " ('mathieu', 2.7725887222397811),\n",
       " ('gilliam', 2.7245795030534206),\n",
       " ('victoria', 2.6810215287142909),\n",
       " ('chavez', 2.6672282065819548),\n",
       " ('ratso', 2.653241964607215),\n",
       " ('harriet', 2.6390573296152584),\n",
       " ('mildred', 2.6026896854443837),\n",
       " ('ultimatum', 2.6026896854443837),\n",
       " ('mclaglen', 2.5649493574615367),\n",
       " ('corbett', 2.5494451709255714),\n",
       " ('gandhi', 2.5389738710582761),\n",
       " ('delightfully', 2.5257286443082556),\n",
       " ('sirk', 2.5199979695992702),\n",
       " ('creasy', 2.5055259369907361),\n",
       " ('braveheart', 2.5014359517392109),\n",
       " ('kazan', 2.4849066497880004),\n",
       " ('mccoy', 2.456735772821304),\n",
       " ('flawless', 2.451005098112319),\n",
       " ('othello', 2.4485390056171252),\n",
       " ('novak', 2.4361164856185682),\n",
       " ('christy', 2.4203681286504293),\n",
       " ('cheadle', 2.4159137783010487),\n",
       " ('fuller', 2.3978952727983707)]"
      ]
     },
     "execution_count": 20,
     "metadata": {},
     "output_type": "execute_result"
    }
   ],
   "source": [
    "total_counts,positive_counts, negative_counts, pos_neg_ratios = pre_process_data(train_pos_clean,train_neg_clean)\n",
    "pos_neg_ratios.most_common()[1:50]"
   ]
  },
  {
   "cell_type": "markdown",
   "metadata": {},
   "source": [
    "**Most Common words used in IMDB NEGATIVE reviews**  \n",
    "As you scroll down, the ratio increases from negative to positive number and moves towards the center of the distribution (see the plot below). Greater the ratio, more likely that the word is also highly used in POSITIVE reviews.  \n",
    "\n",
    "Ratio closer to 0 means that the word is almost equally used in both reviews."
   ]
  },
  {
   "cell_type": "code",
   "execution_count": 21,
   "metadata": {
    "collapsed": false
   },
   "outputs": [
    {
     "data": {
      "text/plain": [
       "[('boll', -4.0778152602708904),\n",
       " ('uwe', -3.9218753018711578),\n",
       " ('thunderbirds', -3.6447082358007989),\n",
       " ('beowulf', -3.6346396851769396),\n",
       " ('dahmer', -3.5572016301387364),\n",
       " ('wayans', -3.5197159818974928),\n",
       " ('seagal', -3.3202501058581921),\n",
       " ('gamera', -3.0853444322436783),\n",
       " ('dreck', -3.0370818333726866),\n",
       " ('unwatchable', -3.0269848170580955),\n",
       " ('stinker', -2.9876839403711624),\n",
       " ('mst', -2.7753833211707968),\n",
       " ('incoherent', -2.7641396677532537),\n",
       " ('flimsy', -2.7555911458712101),\n",
       " ('dillinger', -2.6762095952465517),\n",
       " ('yawn', -2.66353354771016),\n",
       " ('unfunny', -2.5545257844967644),\n",
       " ('ugh', -2.4922059522696118),\n",
       " ('turd', -2.4922059522696118),\n",
       " ('waste', -2.4913982630245077),\n",
       " ('blah', -2.4475792789485005),\n",
       " ('slugs', -2.4427317247372873),\n",
       " ('tripe', -2.3838842974917549),\n",
       " ('wtf', -2.3715779644809971),\n",
       " ('horrid', -2.3715779644809971),\n",
       " ('pointless', -2.3451073877136341),\n",
       " ('atrocious', -2.3236852650341322),\n",
       " ('damme', -2.3051524884992913),\n",
       " ('redeeming', -2.2667790015910296),\n",
       " ('prom', -2.2601040980178784),\n",
       " ('baldwin', -2.2576634056025342),\n",
       " ('drivel', -2.2476029585766928),\n",
       " ('arquette', -2.2428658582924235),\n",
       " ('lousy', -2.2118080125207054),\n",
       " ('worst', -2.1927186154155134),\n",
       " ('laughable', -2.172468615469592),\n",
       " ('awful', -2.1385076866397488),\n",
       " ('poorly', -2.1326133844207011),\n",
       " ('unimaginative', -2.1278681355853104),\n",
       " ('wasting', -2.1178155545614512),\n",
       " ('remotely', -2.111046881095167),\n",
       " ('camcorder', -2.0814106922997166),\n",
       " ('excruciatingly', -2.0763693426428658),\n",
       " ('nope', -2.0661963149298153),\n",
       " ('chiba', -2.0402208285265546),\n",
       " ('unoriginal', -2.0402208285265546),\n",
       " ('unlikeable', -2.0024805005437076),\n",
       " ('insipid', -2.0024805005437076),\n",
       " ('existent', -2.0024805005437076),\n",
       " ('embarrassingly', -1.9829714931972493)]"
      ]
     },
     "execution_count": 21,
     "metadata": {},
     "output_type": "execute_result"
    }
   ],
   "source": [
    "# words most frequently seen in a IMDB review with a \"NEGATIVE\" label\n",
    "list(reversed(pos_neg_ratios.most_common()))[:50]"
   ]
  },
  {
   "cell_type": "code",
   "execution_count": 28,
   "metadata": {
    "collapsed": false,
    "scrolled": true
   },
   "outputs": [
    {
     "data": {
      "text/html": [
       "\n",
       "    <div class=\"bk-root\">\n",
       "        <a href=\"http://bokeh.pydata.org\" target=\"_blank\" class=\"bk-logo bk-logo-small bk-logo-notebook\"></a>\n",
       "        <span id=\"4339e24b-d886-4dff-b380-0e15f73228d3\">Loading BokehJS ...</span>\n",
       "    </div>"
      ]
     },
     "metadata": {},
     "output_type": "display_data"
    },
    {
     "data": {
      "application/javascript": [
       "\n",
       "(function(global) {\n",
       "  function now() {\n",
       "    return new Date();\n",
       "  }\n",
       "\n",
       "  var force = true;\n",
       "\n",
       "  if (typeof (window._bokeh_onload_callbacks) === \"undefined\" || force === true) {\n",
       "    window._bokeh_onload_callbacks = [];\n",
       "    window._bokeh_is_loading = undefined;\n",
       "  }\n",
       "\n",
       "\n",
       "  \n",
       "  if (typeof (window._bokeh_timeout) === \"undefined\" || force === true) {\n",
       "    window._bokeh_timeout = Date.now() + 5000;\n",
       "    window._bokeh_failed_load = false;\n",
       "  }\n",
       "\n",
       "  var NB_LOAD_WARNING = {'data': {'text/html':\n",
       "     \"<div style='background-color: #fdd'>\\n\"+\n",
       "     \"<p>\\n\"+\n",
       "     \"BokehJS does not appear to have successfully loaded. If loading BokehJS from CDN, this \\n\"+\n",
       "     \"may be due to a slow or bad network connection. Possible fixes:\\n\"+\n",
       "     \"</p>\\n\"+\n",
       "     \"<ul>\\n\"+\n",
       "     \"<li>re-rerun `output_notebook()` to attempt to load from CDN again, or</li>\\n\"+\n",
       "     \"<li>use INLINE resources instead, as so:</li>\\n\"+\n",
       "     \"</ul>\\n\"+\n",
       "     \"<code>\\n\"+\n",
       "     \"from bokeh.resources import INLINE\\n\"+\n",
       "     \"output_notebook(resources=INLINE)\\n\"+\n",
       "     \"</code>\\n\"+\n",
       "     \"</div>\"}};\n",
       "\n",
       "  function display_loaded() {\n",
       "    if (window.Bokeh !== undefined) {\n",
       "      document.getElementById(\"4339e24b-d886-4dff-b380-0e15f73228d3\").textContent = \"BokehJS successfully loaded.\";\n",
       "    } else if (Date.now() < window._bokeh_timeout) {\n",
       "      setTimeout(display_loaded, 100)\n",
       "    }\n",
       "  }\n",
       "\n",
       "  function run_callbacks() {\n",
       "    window._bokeh_onload_callbacks.forEach(function(callback) { callback() });\n",
       "    delete window._bokeh_onload_callbacks\n",
       "    console.info(\"Bokeh: all callbacks have finished\");\n",
       "  }\n",
       "\n",
       "  function load_libs(js_urls, callback) {\n",
       "    window._bokeh_onload_callbacks.push(callback);\n",
       "    if (window._bokeh_is_loading > 0) {\n",
       "      console.log(\"Bokeh: BokehJS is being loaded, scheduling callback at\", now());\n",
       "      return null;\n",
       "    }\n",
       "    if (js_urls == null || js_urls.length === 0) {\n",
       "      run_callbacks();\n",
       "      return null;\n",
       "    }\n",
       "    console.log(\"Bokeh: BokehJS not loaded, scheduling load and callback at\", now());\n",
       "    window._bokeh_is_loading = js_urls.length;\n",
       "    for (var i = 0; i < js_urls.length; i++) {\n",
       "      var url = js_urls[i];\n",
       "      var s = document.createElement('script');\n",
       "      s.src = url;\n",
       "      s.async = false;\n",
       "      s.onreadystatechange = s.onload = function() {\n",
       "        window._bokeh_is_loading--;\n",
       "        if (window._bokeh_is_loading === 0) {\n",
       "          console.log(\"Bokeh: all BokehJS libraries loaded\");\n",
       "          run_callbacks()\n",
       "        }\n",
       "      };\n",
       "      s.onerror = function() {\n",
       "        console.warn(\"failed to load library \" + url);\n",
       "      };\n",
       "      console.log(\"Bokeh: injecting script tag for BokehJS library: \", url);\n",
       "      document.getElementsByTagName(\"head\")[0].appendChild(s);\n",
       "    }\n",
       "  };var element = document.getElementById(\"4339e24b-d886-4dff-b380-0e15f73228d3\");\n",
       "  if (element == null) {\n",
       "    console.log(\"Bokeh: ERROR: autoload.js configured with elementid '4339e24b-d886-4dff-b380-0e15f73228d3' but no matching script tag was found. \")\n",
       "    return false;\n",
       "  }\n",
       "\n",
       "  var js_urls = [\"https://cdn.pydata.org/bokeh/release/bokeh-0.12.4.min.js\", \"https://cdn.pydata.org/bokeh/release/bokeh-widgets-0.12.4.min.js\"];\n",
       "\n",
       "  var inline_js = [\n",
       "    function(Bokeh) {\n",
       "      Bokeh.set_log_level(\"info\");\n",
       "    },\n",
       "    \n",
       "    function(Bokeh) {\n",
       "      \n",
       "      document.getElementById(\"4339e24b-d886-4dff-b380-0e15f73228d3\").textContent = \"BokehJS is loading...\";\n",
       "    },\n",
       "    function(Bokeh) {\n",
       "      console.log(\"Bokeh: injecting CSS: https://cdn.pydata.org/bokeh/release/bokeh-0.12.4.min.css\");\n",
       "      Bokeh.embed.inject_css(\"https://cdn.pydata.org/bokeh/release/bokeh-0.12.4.min.css\");\n",
       "      console.log(\"Bokeh: injecting CSS: https://cdn.pydata.org/bokeh/release/bokeh-widgets-0.12.4.min.css\");\n",
       "      Bokeh.embed.inject_css(\"https://cdn.pydata.org/bokeh/release/bokeh-widgets-0.12.4.min.css\");\n",
       "    }\n",
       "  ];\n",
       "\n",
       "  function run_inline_js() {\n",
       "    \n",
       "    if ((window.Bokeh !== undefined) || (force === true)) {\n",
       "      for (var i = 0; i < inline_js.length; i++) {\n",
       "        inline_js[i](window.Bokeh);\n",
       "      }if (force === true) {\n",
       "        display_loaded();\n",
       "      }} else if (Date.now() < window._bokeh_timeout) {\n",
       "      setTimeout(run_inline_js, 100);\n",
       "    } else if (!window._bokeh_failed_load) {\n",
       "      console.log(\"Bokeh: BokehJS failed to load within specified timeout.\");\n",
       "      window._bokeh_failed_load = true;\n",
       "    } else if (force !== true) {\n",
       "      var cell = $(document.getElementById(\"4339e24b-d886-4dff-b380-0e15f73228d3\")).parents('.cell').data().cell;\n",
       "      cell.output_area.append_execute_result(NB_LOAD_WARNING)\n",
       "    }\n",
       "\n",
       "  }\n",
       "\n",
       "  if (window._bokeh_is_loading === 0) {\n",
       "    console.log(\"Bokeh: BokehJS loaded, going straight to plotting\");\n",
       "    run_inline_js();\n",
       "  } else {\n",
       "    load_libs(js_urls, function() {\n",
       "      console.log(\"Bokeh: BokehJS plotting callback run at\", now());\n",
       "      run_inline_js();\n",
       "    });\n",
       "  }\n",
       "}(this));"
      ]
     },
     "metadata": {},
     "output_type": "display_data"
    },
    {
     "data": {
      "text/html": [
       "\n",
       "\n",
       "    <div class=\"bk-root\">\n",
       "        <div class=\"bk-plotdiv\" id=\"2d3a4a0b-de41-48ae-9523-403bd08af704\"></div>\n",
       "    </div>\n",
       "<script type=\"text/javascript\">\n",
       "  \n",
       "  (function(global) {\n",
       "    function now() {\n",
       "      return new Date();\n",
       "    }\n",
       "  \n",
       "    var force = false;\n",
       "  \n",
       "    if (typeof (window._bokeh_onload_callbacks) === \"undefined\" || force === true) {\n",
       "      window._bokeh_onload_callbacks = [];\n",
       "      window._bokeh_is_loading = undefined;\n",
       "    }\n",
       "  \n",
       "  \n",
       "    \n",
       "    if (typeof (window._bokeh_timeout) === \"undefined\" || force === true) {\n",
       "      window._bokeh_timeout = Date.now() + 0;\n",
       "      window._bokeh_failed_load = false;\n",
       "    }\n",
       "  \n",
       "    var NB_LOAD_WARNING = {'data': {'text/html':\n",
       "       \"<div style='background-color: #fdd'>\\n\"+\n",
       "       \"<p>\\n\"+\n",
       "       \"BokehJS does not appear to have successfully loaded. If loading BokehJS from CDN, this \\n\"+\n",
       "       \"may be due to a slow or bad network connection. Possible fixes:\\n\"+\n",
       "       \"</p>\\n\"+\n",
       "       \"<ul>\\n\"+\n",
       "       \"<li>re-rerun `output_notebook()` to attempt to load from CDN again, or</li>\\n\"+\n",
       "       \"<li>use INLINE resources instead, as so:</li>\\n\"+\n",
       "       \"</ul>\\n\"+\n",
       "       \"<code>\\n\"+\n",
       "       \"from bokeh.resources import INLINE\\n\"+\n",
       "       \"output_notebook(resources=INLINE)\\n\"+\n",
       "       \"</code>\\n\"+\n",
       "       \"</div>\"}};\n",
       "  \n",
       "    function display_loaded() {\n",
       "      if (window.Bokeh !== undefined) {\n",
       "        document.getElementById(\"2d3a4a0b-de41-48ae-9523-403bd08af704\").textContent = \"BokehJS successfully loaded.\";\n",
       "      } else if (Date.now() < window._bokeh_timeout) {\n",
       "        setTimeout(display_loaded, 100)\n",
       "      }\n",
       "    }\n",
       "  \n",
       "    function run_callbacks() {\n",
       "      window._bokeh_onload_callbacks.forEach(function(callback) { callback() });\n",
       "      delete window._bokeh_onload_callbacks\n",
       "      console.info(\"Bokeh: all callbacks have finished\");\n",
       "    }\n",
       "  \n",
       "    function load_libs(js_urls, callback) {\n",
       "      window._bokeh_onload_callbacks.push(callback);\n",
       "      if (window._bokeh_is_loading > 0) {\n",
       "        console.log(\"Bokeh: BokehJS is being loaded, scheduling callback at\", now());\n",
       "        return null;\n",
       "      }\n",
       "      if (js_urls == null || js_urls.length === 0) {\n",
       "        run_callbacks();\n",
       "        return null;\n",
       "      }\n",
       "      console.log(\"Bokeh: BokehJS not loaded, scheduling load and callback at\", now());\n",
       "      window._bokeh_is_loading = js_urls.length;\n",
       "      for (var i = 0; i < js_urls.length; i++) {\n",
       "        var url = js_urls[i];\n",
       "        var s = document.createElement('script');\n",
       "        s.src = url;\n",
       "        s.async = false;\n",
       "        s.onreadystatechange = s.onload = function() {\n",
       "          window._bokeh_is_loading--;\n",
       "          if (window._bokeh_is_loading === 0) {\n",
       "            console.log(\"Bokeh: all BokehJS libraries loaded\");\n",
       "            run_callbacks()\n",
       "          }\n",
       "        };\n",
       "        s.onerror = function() {\n",
       "          console.warn(\"failed to load library \" + url);\n",
       "        };\n",
       "        console.log(\"Bokeh: injecting script tag for BokehJS library: \", url);\n",
       "        document.getElementsByTagName(\"head\")[0].appendChild(s);\n",
       "      }\n",
       "    };var element = document.getElementById(\"2d3a4a0b-de41-48ae-9523-403bd08af704\");\n",
       "    if (element == null) {\n",
       "      console.log(\"Bokeh: ERROR: autoload.js configured with elementid '2d3a4a0b-de41-48ae-9523-403bd08af704' but no matching script tag was found. \")\n",
       "      return false;\n",
       "    }\n",
       "  \n",
       "    var js_urls = [];\n",
       "  \n",
       "    var inline_js = [\n",
       "      function(Bokeh) {\n",
       "        (function() {\n",
       "          var fn = function() {\n",
       "            var docs_json = {\"63835598-641e-4623-8442-8de5d74eb2aa\":{\"roots\":{\"references\":[{\"attributes\":{\"formatter\":{\"id\":\"753ab913-ede4-481b-bf3f-bf2054fd351e\",\"type\":\"BasicTickFormatter\"},\"plot\":{\"id\":\"44b45958-e045-499f-b729-895cf8299466\",\"subtype\":\"Figure\",\"type\":\"Plot\"},\"ticker\":{\"id\":\"a3a5e15c-9b82-4706-85d6-3751d8520b30\",\"type\":\"BasicTicker\"}},\"id\":\"2e153f75-236e-4812-9bf0-7ed38abb76fa\",\"type\":\"LinearAxis\"},{\"attributes\":{\"active_drag\":\"auto\",\"active_scroll\":\"auto\",\"active_tap\":\"auto\",\"tools\":[{\"id\":\"af9589bd-25ea-4043-aff3-66f0cec8fcc5\",\"type\":\"PanTool\"},{\"id\":\"24c3189a-1810-491b-b259-31c1706edb3e\",\"type\":\"WheelZoomTool\"},{\"id\":\"dc19a4c7-bc81-47d4-aebb-a6f3f99c820b\",\"type\":\"ResetTool\"},{\"id\":\"a9bbbd3c-79b4-4a67-856a-825163edf0d3\",\"type\":\"SaveTool\"}]},\"id\":\"747837d6-bbc9-426d-b234-f32aacb4375f\",\"type\":\"Toolbar\"},{\"attributes\":{\"data_source\":{\"id\":\"2df08cdb-269b-4b8a-bdf0-948c62340254\",\"type\":\"ColumnDataSource\"},\"glyph\":{\"id\":\"1df03b32-5643-4f33-9d4b-7431ffca34f3\",\"type\":\"Quad\"},\"hover_glyph\":null,\"nonselection_glyph\":{\"id\":\"9fea080f-09b6-4f80-b3f7-22d9d9a33b5b\",\"type\":\"Quad\"},\"selection_glyph\":null},\"id\":\"18bdfb5c-292c-4950-bf13-a16f460ee20c\",\"type\":\"GlyphRenderer\"},{\"attributes\":{\"callback\":null},\"id\":\"6dc4659a-582b-4dd5-aaaf-50c00704ded0\",\"type\":\"DataRange1d\"},{\"attributes\":{},\"id\":\"4872d7be-0fe9-4f96-a9c2-1a09d42f9f55\",\"type\":\"ToolEvents\"},{\"attributes\":{\"bottom\":{\"value\":0},\"fill_alpha\":{\"value\":0.1},\"fill_color\":{\"value\":\"#1f77b4\"},\"left\":{\"field\":\"left\"},\"line_alpha\":{\"value\":0.1},\"line_color\":{\"value\":\"#1f77b4\"},\"right\":{\"field\":\"right\"},\"top\":{\"field\":\"top\"}},\"id\":\"9fea080f-09b6-4f80-b3f7-22d9d9a33b5b\",\"type\":\"Quad\"},{\"attributes\":{\"dimension\":1,\"plot\":{\"id\":\"44b45958-e045-499f-b729-895cf8299466\",\"subtype\":\"Figure\",\"type\":\"Plot\"},\"ticker\":{\"id\":\"a3a5e15c-9b82-4706-85d6-3751d8520b30\",\"type\":\"BasicTicker\"}},\"id\":\"62adde19-71c9-4e1f-b986-941ba55eeaaa\",\"type\":\"Grid\"},{\"attributes\":{\"plot\":{\"id\":\"44b45958-e045-499f-b729-895cf8299466\",\"subtype\":\"Figure\",\"type\":\"Plot\"}},\"id\":\"a9bbbd3c-79b4-4a67-856a-825163edf0d3\",\"type\":\"SaveTool\"},{\"attributes\":{},\"id\":\"cc9fc860-19cf-4863-b7ff-3bfa88fdd531\",\"type\":\"BasicTicker\"},{\"attributes\":{\"plot\":{\"id\":\"44b45958-e045-499f-b729-895cf8299466\",\"subtype\":\"Figure\",\"type\":\"Plot\"},\"ticker\":{\"id\":\"cc9fc860-19cf-4863-b7ff-3bfa88fdd531\",\"type\":\"BasicTicker\"}},\"id\":\"5b304d2a-93c3-4c76-b559-50d7bea5ed88\",\"type\":\"Grid\"},{\"attributes\":{\"plot\":{\"id\":\"44b45958-e045-499f-b729-895cf8299466\",\"subtype\":\"Figure\",\"type\":\"Plot\"}},\"id\":\"dc19a4c7-bc81-47d4-aebb-a6f3f99c820b\",\"type\":\"ResetTool\"},{\"attributes\":{\"plot\":null,\"text\":\"Word Positive/Negative Affinity Distribution on IMDB Data set\"},\"id\":\"5178c869-4840-4016-b834-d85da58ee286\",\"type\":\"Title\"},{\"attributes\":{\"plot\":{\"id\":\"44b45958-e045-499f-b729-895cf8299466\",\"subtype\":\"Figure\",\"type\":\"Plot\"}},\"id\":\"24c3189a-1810-491b-b259-31c1706edb3e\",\"type\":\"WheelZoomTool\"},{\"attributes\":{\"callback\":null,\"column_names\":[\"left\",\"right\",\"top\"],\"data\":{\"left\":{\"__ndarray__\":\"Cvm3za5PEMCZHufvxesPwB5LXkQuOA/AonfVmJaEDsAnpEzt/tANwKzQw0FnHQ3AMf06ls9pDMC2KbLqN7YLwDpWKT+gAgvAv4KgkwhPCsBErxfocJsJwMnbjjzZ5wjATggGkUE0CMDSNH3lqYAHwFhh9DkSzQbA3I1rjnoZBsBhuuLi4mUFwObmWTdLsgTAahPRi7P+A8DwP0jgG0sDwHRsvzSElwLA+Zg2iezjAcB+xa3dVDABwAPyJDK9fADAED04DUuS/78Ylia2Gyv+vyLvFF/sw/y/LEgDCL1c+782ofGwjfX5v0D631lejvi/SFPOAi8n979SrLyr/7/1v1wFq1TQWPS/Zl6Z/aDx8r9wt4emcYrxv3gQdk9CI/C/BNPI8CV47b8YhaVCx6nqvyw3gpRo2+e/QOle5gkN5b9Qmzs4qz7iv8iaMBSZ4N6/8P7pt9tD2b8YY6NbHqfTv4COuf7BFMy/0FYsRkfbwL+AfHw2Moemv4BiuKu4XqY/QFB74yjRwD8AiAicowrMP+DfSioPotM/sHuRhsw+2T+QF9jiidveP7BZj58jPOI/oKeyTYIK5T+Q9dX74NjnP3hD+ak/p+o/aJEcWJ517T+o7x+D/iHwP6CWMdotifE/mD1DMV3w8j+M5FSIjFf0P4SLZt+7vvU/eDJ4Nusl9z9w2YmNGo34P2iAm+RJ9Pk/XCetO3lb+z9Uzr6SqML8P0h10OnXKf4/QBziQAeR/z+c4flLG3wAQBa1gveyLwFAkogLo0rjAUAMXJRO4pYCQIgvHfp5SgNABAOmpRH+A0B+1i5RqbEEQPqpt/xAZQVAdH1AqNgYBkDwUMlTcMwGQGwkUv8HgAdA5vfaqp8zCEBiy2NWN+cIQNye7AHPmglAWHJ1rWZOCkDSRf5Y/gELQE4ZhwSWtQtAyuwPsC1pDEBEwJhbxRwNQMCTIQdd0A1AOmeqsvSDDkC2OjNejDcPQDAOvAkk6w9A1nCi2l1PEECU2mawKakQQFJEK4b1AhFADq7vW8FcEUDMF7QxjbYRQIqBeAdZEBJASOs83SRqEkA=\",\"dtype\":\"float64\",\"shape\":[100]},\"right\":{\"__ndarray__\":\"mR7n78XrD8AeS15ELjgPwKJ31ZiWhA7AJ6RM7f7QDcCs0MNBZx0NwDH9OpbPaQzAtimy6je2C8A6Vik/oAILwL+CoJMITwrARK8X6HCbCcDJ24482ecIwE4IBpFBNAjA0jR95amAB8BYYfQ5Es0GwNyNa456GQbAYbri4uJlBcDm5lk3S7IEwGoT0Yuz/gPA8D9I4BtLA8B0bL80hJcCwPmYNons4wHAfsWt3VQwAcAD8iQyvXwAwBA9OA1Lkv+/GJYmthsr/r8i7xRf7MP8vyxIAwi9XPu/NqHxsI31+b9A+t9ZXo74v0hTzgIvJ/e/Uqy8q/+/9b9cBatU0Fj0v2Zemf2g8fK/cLeHpnGK8b94EHZPQiPwvwTTyPAleO2/GIWlQsep6r8sN4KUaNvnv0DpXuYJDeW/UJs7OKs+4r/ImjAUmeDev/D+6bfbQ9m/GGOjWx6n07+Ajrn+wRTMv9BWLEZH28C/gHx8NjKHpr+AYriruF6mP0BQe+Mo0cA/AIgInKMKzD/g30oqD6LTP7B7kYbMPtk/kBfY4onb3j+wWY+fIzziP6Cnsk2CCuU/kPXV++DY5z94Q/mpP6fqP2iRHFiede0/qO8fg/4h8D+gljHaLYnxP5g9QzFd8PI/jORUiIxX9D+Ei2bfu771P3gyeDbrJfc/cNmJjRqN+D9ogJvkSfT5P1wnrTt5W/s/VM6+kqjC/D9IddDp1yn+P0Ac4kAHkf8/nOH5Sxt8AEAWtYL3si8BQJKIC6NK4wFADFyUTuKWAkCILx36eUoDQAQDpqUR/gNAftYuUamxBED6qbf8QGUFQHR9QKjYGAZA8FDJU3DMBkBsJFL/B4AHQOb32qqfMwhAYstjVjfnCEDcnuwBz5oJQFhyda1mTgpA0kX+WP4BC0BOGYcElrULQMrsD7AtaQxARMCYW8UcDUDAkyEHXdANQDpnqrL0gw5AtjozXow3D0AwDrwJJOsPQNZwotpdTxBAlNpmsCmpEEBSRCuG9QIRQA6u71vBXBFAzBe0MY22EUCKgXgHWRASQEjrPN0kahJABlUBs/DDEkA=\",\"dtype\":\"float64\",\"shape\":[100]},\"top\":{\"__ndarray__\":\"kLAA58FSWz+QsADnwVJbPwAAAAAAAAAAAAAAAAAAAACQsADnwVJbP5CwAOfBUms/kLAA58FSWz8AAAAAAAAAAJCwAOfBUls/AAAAAAAAAAAAAAAAAAAAAGuEQG0RfnQ/aLAA58FSWz8AAAAAAAAAAGiwAOfBUms/kLAA58FSaz+QsADnwVJbP2iwAOfBUls/cm5gMLkTgT9osADnwVJ7P36aIKpp6Ic/a4RAbRF+dD+QsADnwVKLP36aIKpp6Ic/YqWQyJWdmT9abmAwuROhP36aIKpp6Jc/osbgIxq9nj+ixuAjGr2eP1uaIKpp6Kc/JswYM7CXrz/viXh8p1ilP2uEQG0RfrQ/3nOYP0/usT+TjBSE8sW1P5CwAOfBUrs/osbgIxq9vj/MhQ7xtrTEPwKgWLn/wsg/tMNEHM9Pzj9+hvWyCdDUP6mBpGXGENQ/kLAA58FS2z+Xa8QobqbgP4Z9OtrVbOM/Yo37RUXh5T98KCAxihjqP9agP3tS3ug/MRXc+3wb5z/PEw541+TmP3kMISNJuOU/AfuRMzQN4z9Hc7F9/NLhP1uaIKpp6Nc/cYiq+AEi1T8ceALLP5LSP96fWLn/wsg/xJ6KNVqMyD/Lfghee6PDP3XG4CMavb4/bqgs0OAKuj+Aa8QobqawP1LMGDOwl68/gGvEKG6msD/lqsjXK3iqP7awAOfBUps/W5ogqmnolz+rpZDIlZ2ZP06EQG0RfpQ/ToRAbRF+lD9ybmAwuROBP06EQG0RfoQ/zcbgIxq9jj9osADnwVJ7P1uaIKpp6Ic/n5ogqmnohz9BbmAwuROBP7awAOfBUms/W5ogqmnohz9osADnwVJ7P7awAOfBUns/AAAAAAAAAAC2sADnwVJbP2iwAOfBUls/AAAAAAAAAABosADnwVJbPwAAAAAAAAAAAAAAAAAAAAAAAAAAAAAAAAAAAAAAAAAAAAAAAAAAAAC2sADnwVJrPwAAAAAAAAAAToRAbRF+dD9osADnwVJrPwAAAAAAAAAAaLAA58FSWz9osADnwVJbPwAAAAAAAAAAaLAA58FSWz8=\",\"dtype\":\"float64\",\"shape\":[100]}}},\"id\":\"2df08cdb-269b-4b8a-bdf0-948c62340254\",\"type\":\"ColumnDataSource\"},{\"attributes\":{\"bottom\":{\"value\":0},\"fill_color\":{\"value\":\"#1f77b4\"},\"left\":{\"field\":\"left\"},\"line_color\":{\"value\":\"#555555\"},\"right\":{\"field\":\"right\"},\"top\":{\"field\":\"top\"}},\"id\":\"1df03b32-5643-4f33-9d4b-7431ffca34f3\",\"type\":\"Quad\"},{\"attributes\":{},\"id\":\"a3a5e15c-9b82-4706-85d6-3751d8520b30\",\"type\":\"BasicTicker\"},{\"attributes\":{\"below\":[{\"id\":\"2f7cbd2d-7b7c-4499-bb05-7387bdb54655\",\"type\":\"LinearAxis\"}],\"left\":[{\"id\":\"2e153f75-236e-4812-9bf0-7ed38abb76fa\",\"type\":\"LinearAxis\"}],\"renderers\":[{\"id\":\"2f7cbd2d-7b7c-4499-bb05-7387bdb54655\",\"type\":\"LinearAxis\"},{\"id\":\"5b304d2a-93c3-4c76-b559-50d7bea5ed88\",\"type\":\"Grid\"},{\"id\":\"2e153f75-236e-4812-9bf0-7ed38abb76fa\",\"type\":\"LinearAxis\"},{\"id\":\"62adde19-71c9-4e1f-b986-941ba55eeaaa\",\"type\":\"Grid\"},{\"id\":\"18bdfb5c-292c-4950-bf13-a16f460ee20c\",\"type\":\"GlyphRenderer\"}],\"title\":{\"id\":\"5178c869-4840-4016-b834-d85da58ee286\",\"type\":\"Title\"},\"tool_events\":{\"id\":\"4872d7be-0fe9-4f96-a9c2-1a09d42f9f55\",\"type\":\"ToolEvents\"},\"toolbar\":{\"id\":\"747837d6-bbc9-426d-b234-f32aacb4375f\",\"type\":\"Toolbar\"},\"toolbar_location\":\"above\",\"x_range\":{\"id\":\"1b4f30e5-878a-4335-89bc-85e4ca317cfc\",\"type\":\"DataRange1d\"},\"y_range\":{\"id\":\"6dc4659a-582b-4dd5-aaaf-50c00704ded0\",\"type\":\"DataRange1d\"}},\"id\":\"44b45958-e045-499f-b729-895cf8299466\",\"subtype\":\"Figure\",\"type\":\"Plot\"},{\"attributes\":{\"formatter\":{\"id\":\"46045cf7-6cd1-4182-ad19-22d838751e44\",\"type\":\"BasicTickFormatter\"},\"plot\":{\"id\":\"44b45958-e045-499f-b729-895cf8299466\",\"subtype\":\"Figure\",\"type\":\"Plot\"},\"ticker\":{\"id\":\"cc9fc860-19cf-4863-b7ff-3bfa88fdd531\",\"type\":\"BasicTicker\"}},\"id\":\"2f7cbd2d-7b7c-4499-bb05-7387bdb54655\",\"type\":\"LinearAxis\"},{\"attributes\":{},\"id\":\"753ab913-ede4-481b-bf3f-bf2054fd351e\",\"type\":\"BasicTickFormatter\"},{\"attributes\":{\"callback\":null},\"id\":\"1b4f30e5-878a-4335-89bc-85e4ca317cfc\",\"type\":\"DataRange1d\"},{\"attributes\":{\"plot\":{\"id\":\"44b45958-e045-499f-b729-895cf8299466\",\"subtype\":\"Figure\",\"type\":\"Plot\"}},\"id\":\"af9589bd-25ea-4043-aff3-66f0cec8fcc5\",\"type\":\"PanTool\"},{\"attributes\":{},\"id\":\"46045cf7-6cd1-4182-ad19-22d838751e44\",\"type\":\"BasicTickFormatter\"}],\"root_ids\":[\"44b45958-e045-499f-b729-895cf8299466\"]},\"title\":\"Bokeh Application\",\"version\":\"0.12.4\"}};\n",
       "            var render_items = [{\"docid\":\"63835598-641e-4623-8442-8de5d74eb2aa\",\"elementid\":\"2d3a4a0b-de41-48ae-9523-403bd08af704\",\"modelid\":\"44b45958-e045-499f-b729-895cf8299466\"}];\n",
       "            \n",
       "            Bokeh.embed.embed_items(docs_json, render_items);\n",
       "          };\n",
       "          if (document.readyState != \"loading\") fn();\n",
       "          else document.addEventListener(\"DOMContentLoaded\", fn);\n",
       "        })();\n",
       "      },\n",
       "      function(Bokeh) {\n",
       "      }\n",
       "    ];\n",
       "  \n",
       "    function run_inline_js() {\n",
       "      \n",
       "      if ((window.Bokeh !== undefined) || (force === true)) {\n",
       "        for (var i = 0; i < inline_js.length; i++) {\n",
       "          inline_js[i](window.Bokeh);\n",
       "        }if (force === true) {\n",
       "          display_loaded();\n",
       "        }} else if (Date.now() < window._bokeh_timeout) {\n",
       "        setTimeout(run_inline_js, 100);\n",
       "      } else if (!window._bokeh_failed_load) {\n",
       "        console.log(\"Bokeh: BokehJS failed to load within specified timeout.\");\n",
       "        window._bokeh_failed_load = true;\n",
       "      } else if (force !== true) {\n",
       "        var cell = $(document.getElementById(\"2d3a4a0b-de41-48ae-9523-403bd08af704\")).parents('.cell').data().cell;\n",
       "        cell.output_area.append_execute_result(NB_LOAD_WARNING)\n",
       "      }\n",
       "  \n",
       "    }\n",
       "  \n",
       "    if (window._bokeh_is_loading === 0) {\n",
       "      console.log(\"Bokeh: BokehJS loaded, going straight to plotting\");\n",
       "      run_inline_js();\n",
       "    } else {\n",
       "      load_libs(js_urls, function() {\n",
       "        console.log(\"Bokeh: BokehJS plotting callback run at\", now());\n",
       "        run_inline_js();\n",
       "      });\n",
       "    }\n",
       "  }(this));\n",
       "</script>"
      ]
     },
     "metadata": {},
     "output_type": "display_data"
    }
   ],
   "source": [
    "output_notebook()\n",
    "hist, edges = np.histogram(list(map(lambda x:x[1],pos_neg_ratios.most_common())), density=True, bins=100, normed=True)\n",
    "\n",
    "p = figure(tools=\"pan,wheel_zoom,reset,save\",\n",
    "           toolbar_location=\"above\",\n",
    "           title=\"Word Positive/Negative Affinity Distribution on IMDB Data set\")\n",
    "p.quad(top=hist, bottom=0, left=edges[:-1], right=edges[1:], line_color=\"#555555\")\n",
    "show(p)\n",
    "\n"
   ]
  },
  {
   "cell_type": "markdown",
   "metadata": {},
   "source": [
    "The distribution gets taller towards the center. Words with POSITIVE-NEGATIVE ratios which are nearer to  the center of the distribution means that they are almost equally used both POSITIVE and NEGATIVE reviews."
   ]
  },
  {
   "cell_type": "markdown",
   "metadata": {},
   "source": [
    "#### Read Twitter Data Set"
   ]
  },
  {
   "cell_type": "code",
   "execution_count": 29,
   "metadata": {
    "collapsed": false
   },
   "outputs": [
    {
     "name": "stdout",
     "output_type": "stream",
     "text": [
      "Reading twitter Data Set\n"
     ]
    },
    {
     "name": "stderr",
     "output_type": "stream",
     "text": [
      "0% [##############################] 100% | ETA: 00:00:00\n",
      "Total time elapsed: 00:00:08\n",
      "\n",
      "Total time elapsed: 00:00:08\n",
      "\n",
      "Total time elapsed: 00:00:08\n",
      "\n",
      "Total time elapsed: 00:00:08\n",
      "0% [##############################] 100% | ETA: 00:00:00\n",
      "Total time elapsed: 00:00:08\n",
      "\n",
      "Total time elapsed: 00:00:08\n",
      "\n",
      "Total time elapsed: 00:00:08\n",
      "\n",
      "Total time elapsed: 00:00:08\n",
      "\n",
      "Total time elapsed: 00:00:08\n",
      "0% [##############################] 100% | ETA: 00:00:00\n",
      "Total time elapsed: 00:00:01\n",
      "0% [##############################] 100% | ETA: 00:00:00\n",
      "Total time elapsed: 00:00:01\n"
     ]
    }
   ],
   "source": [
    "train_pos, train_neg, test_pos, test_neg = load_data('twitter', 'nlp')\n",
    "train_pos_clean,train_neg_clean, test_pos_clean, test_neg_clean  = remove_stopwords(train_pos, train_neg, test_pos, test_neg)\n",
    "total_counts,positive_counts, negative_counts, pos_neg_ratios = pre_process_data(train_pos_clean,train_neg_clean)"
   ]
  },
  {
   "cell_type": "code",
   "execution_count": 30,
   "metadata": {
    "collapsed": false
   },
   "outputs": [
    {
     "data": {
      "text/plain": [
       "[('tweeterfollow', 5.8607862234658654),\n",
       " ('tweeteradder', 5.3181199938442161),\n",
       " ('iamsoannoyed', 4.8202815656050371),\n",
       " ('longestpoemintheworld', 4.1108738641733114),\n",
       " ('recommends', 3.9318256327243257),\n",
       " ('followfriday', 2.9659274092956398),\n",
       " ('blessings', 2.7454377331738304),\n",
       " ('congratulations', 2.6214427829142766),\n",
       " ('kindly', 2.5839975524322312),\n",
       " ('mrtweet', 2.5649493574615367),\n",
       " ('honored', 2.5494451709255714),\n",
       " ('recommendation', 2.5226469777708473),\n",
       " ('welcome', 2.4586462077452231),\n",
       " ('musicmonday', 2.370793343020579),\n",
       " ('vip', 2.3569256876941269),\n",
       " ('gooooood', 2.3191143949452564),\n",
       " ('appreciated', 2.1559816188021705),\n",
       " ('blessed', 2.1530533590230818),\n",
       " ('bom', 2.1517622032594619),\n",
       " ('pleasure', 2.1347042203548856),\n",
       " ('admire', 2.1000608288825715),\n",
       " ('thankyou', 2.0249533563957662),\n",
       " ('compliment', 1.9951003932460849),\n",
       " ('smiling', 1.9909628129962564),\n",
       " ('smiles', 1.9778617488619157),\n",
       " ('feedback', 1.9720212930589991),\n",
       " ('smile', 1.9545964143112737),\n",
       " ('thank', 1.9263210327986158),\n",
       " ('congrats', 1.919654854318934),\n",
       " ('tnx', 1.890850371872286),\n",
       " ('goodsex', 1.8803128665695001),\n",
       " ('phrase', 1.8803128665695001),\n",
       " ('proud', 1.875773062331084),\n",
       " ('colorblindfish', 1.8458266904983307),\n",
       " ('teehee', 1.8294997972109019),\n",
       " ('amusing', 1.8216124323777361),\n",
       " ('hehehehe', 1.8101086078962514),\n",
       " ('kudos', 1.791759469228055),\n",
       " ('grin', 1.791759469228055),\n",
       " ('disagree', 1.791759469228055),\n",
       " ('appreciate', 1.7841548698428356),\n",
       " ('yumm', 1.7812881693607596),\n",
       " ('priceless', 1.7749523509116738),\n",
       " ('praise', 1.7740598921286541),\n",
       " ('thanks', 1.7665598797603996),\n",
       " ('krisallenmusic', 1.754019141245208),\n",
       " ('hee', 1.7404661748405046),\n",
       " ('www', 1.73762416285137),\n",
       " ('sharing', 1.7279375371573356),\n",
       " ('heehee', 1.7129785913749407)]"
      ]
     },
     "execution_count": 30,
     "metadata": {},
     "output_type": "execute_result"
    }
   ],
   "source": [
    "pos_neg_ratios.most_common()[0:50]"
   ]
  },
  {
   "cell_type": "code",
   "execution_count": 31,
   "metadata": {
    "collapsed": false
   },
   "outputs": [
    {
     "data": {
      "text/plain": [
       "[('dontyouhate', -4.6051701859880918),\n",
       " ('inaperfectworld', -4.6051701859880918),\n",
       " ('fawcett', -4.6051701859880918),\n",
       " ('boohoo', -3.8078827461755491),\n",
       " ('447', -3.750179979977732),\n",
       " ('ftl', -3.603018163507544),\n",
       " ('sniffle', -3.5690782543013158),\n",
       " ('heartburn', -3.5197159818974928),\n",
       " ('womp', -3.3953322622097573),\n",
       " ('mcmahon', -3.2961071728041906),\n",
       " ('saddened', -3.2961071728041906),\n",
       " ('farrah', -3.1568841488402328),\n",
       " ('condolences', -3.1556969232466692),\n",
       " ('toothache', -3.1126536116128931),\n",
       " ('huhuhu', -3.0712398260621363),\n",
       " ('mms', -3.0712398260621363),\n",
       " ('hayfever', -3.0132765832049002),\n",
       " ('dangit', -3.0115428795806332),\n",
       " ('sob', -2.9828080225730558),\n",
       " ('booooo', -2.9762511379821688),\n",
       " ('sprained', -2.9516480004219714),\n",
       " ('colds', -2.9284800465448235),\n",
       " ('jailbreak', -2.9195855647104207),\n",
       " ('noes', -2.8974938339705778),\n",
       " ('nauseous', -2.840660359207412),\n",
       " ('sad', -2.8297801865472634),\n",
       " ('meanie', -2.7704856720430024),\n",
       " ('nooooooo', -2.7615856488954504),\n",
       " ('rainin', -2.7403855817451466),\n",
       " ('upsetting', -2.7342136750988435),\n",
       " ('unwell', -2.7248573194185912),\n",
       " ('boooooo', -2.7009327333333459),\n",
       " ('saddest', -2.7009327333333459),\n",
       " ('poorly', -2.6960534848145787),\n",
       " ('boooo', -2.6927827289714217),\n",
       " ('depressed', -2.6927827289714217),\n",
       " ('unhappy', -2.6833575885118388),\n",
       " ('stranded', -2.6762095952465517),\n",
       " ('carradine', -2.6762095952465517),\n",
       " ('heartbroken', -2.6762095952465517),\n",
       " ('devastated', -2.66353354771016),\n",
       " ('fathers', -2.654346022130349),\n",
       " ('damnit', -2.6330957537309505),\n",
       " ('asthma', -2.624168717121508),\n",
       " ('coughing', -2.624168717121508),\n",
       " ('hurting', -2.6100697927420065),\n",
       " ('throat', -2.6019584899071559),\n",
       " ('hurts', -2.5886208164400397),\n",
       " ('ruined', -2.5857320102804353),\n",
       " ('bummed', -2.5857320102804353)]"
      ]
     },
     "execution_count": 31,
     "metadata": {},
     "output_type": "execute_result"
    }
   ],
   "source": [
    "# words most frequently seen in a Twitter review with a \"NEGATIVE\" label\n",
    "list(reversed(pos_neg_ratios.most_common()))[0:50]"
   ]
  },
  {
   "cell_type": "code",
   "execution_count": 32,
   "metadata": {
    "collapsed": false
   },
   "outputs": [
    {
     "data": {
      "text/html": [
       "\n",
       "    <div class=\"bk-root\">\n",
       "        <a href=\"http://bokeh.pydata.org\" target=\"_blank\" class=\"bk-logo bk-logo-small bk-logo-notebook\"></a>\n",
       "        <span id=\"1d0bfe0d-9673-4749-97f8-1c3f520caad8\">Loading BokehJS ...</span>\n",
       "    </div>"
      ]
     },
     "metadata": {},
     "output_type": "display_data"
    },
    {
     "data": {
      "application/javascript": [
       "\n",
       "(function(global) {\n",
       "  function now() {\n",
       "    return new Date();\n",
       "  }\n",
       "\n",
       "  var force = true;\n",
       "\n",
       "  if (typeof (window._bokeh_onload_callbacks) === \"undefined\" || force === true) {\n",
       "    window._bokeh_onload_callbacks = [];\n",
       "    window._bokeh_is_loading = undefined;\n",
       "  }\n",
       "\n",
       "\n",
       "  \n",
       "  if (typeof (window._bokeh_timeout) === \"undefined\" || force === true) {\n",
       "    window._bokeh_timeout = Date.now() + 5000;\n",
       "    window._bokeh_failed_load = false;\n",
       "  }\n",
       "\n",
       "  var NB_LOAD_WARNING = {'data': {'text/html':\n",
       "     \"<div style='background-color: #fdd'>\\n\"+\n",
       "     \"<p>\\n\"+\n",
       "     \"BokehJS does not appear to have successfully loaded. If loading BokehJS from CDN, this \\n\"+\n",
       "     \"may be due to a slow or bad network connection. Possible fixes:\\n\"+\n",
       "     \"</p>\\n\"+\n",
       "     \"<ul>\\n\"+\n",
       "     \"<li>re-rerun `output_notebook()` to attempt to load from CDN again, or</li>\\n\"+\n",
       "     \"<li>use INLINE resources instead, as so:</li>\\n\"+\n",
       "     \"</ul>\\n\"+\n",
       "     \"<code>\\n\"+\n",
       "     \"from bokeh.resources import INLINE\\n\"+\n",
       "     \"output_notebook(resources=INLINE)\\n\"+\n",
       "     \"</code>\\n\"+\n",
       "     \"</div>\"}};\n",
       "\n",
       "  function display_loaded() {\n",
       "    if (window.Bokeh !== undefined) {\n",
       "      document.getElementById(\"1d0bfe0d-9673-4749-97f8-1c3f520caad8\").textContent = \"BokehJS successfully loaded.\";\n",
       "    } else if (Date.now() < window._bokeh_timeout) {\n",
       "      setTimeout(display_loaded, 100)\n",
       "    }\n",
       "  }\n",
       "\n",
       "  function run_callbacks() {\n",
       "    window._bokeh_onload_callbacks.forEach(function(callback) { callback() });\n",
       "    delete window._bokeh_onload_callbacks\n",
       "    console.info(\"Bokeh: all callbacks have finished\");\n",
       "  }\n",
       "\n",
       "  function load_libs(js_urls, callback) {\n",
       "    window._bokeh_onload_callbacks.push(callback);\n",
       "    if (window._bokeh_is_loading > 0) {\n",
       "      console.log(\"Bokeh: BokehJS is being loaded, scheduling callback at\", now());\n",
       "      return null;\n",
       "    }\n",
       "    if (js_urls == null || js_urls.length === 0) {\n",
       "      run_callbacks();\n",
       "      return null;\n",
       "    }\n",
       "    console.log(\"Bokeh: BokehJS not loaded, scheduling load and callback at\", now());\n",
       "    window._bokeh_is_loading = js_urls.length;\n",
       "    for (var i = 0; i < js_urls.length; i++) {\n",
       "      var url = js_urls[i];\n",
       "      var s = document.createElement('script');\n",
       "      s.src = url;\n",
       "      s.async = false;\n",
       "      s.onreadystatechange = s.onload = function() {\n",
       "        window._bokeh_is_loading--;\n",
       "        if (window._bokeh_is_loading === 0) {\n",
       "          console.log(\"Bokeh: all BokehJS libraries loaded\");\n",
       "          run_callbacks()\n",
       "        }\n",
       "      };\n",
       "      s.onerror = function() {\n",
       "        console.warn(\"failed to load library \" + url);\n",
       "      };\n",
       "      console.log(\"Bokeh: injecting script tag for BokehJS library: \", url);\n",
       "      document.getElementsByTagName(\"head\")[0].appendChild(s);\n",
       "    }\n",
       "  };var element = document.getElementById(\"1d0bfe0d-9673-4749-97f8-1c3f520caad8\");\n",
       "  if (element == null) {\n",
       "    console.log(\"Bokeh: ERROR: autoload.js configured with elementid '1d0bfe0d-9673-4749-97f8-1c3f520caad8' but no matching script tag was found. \")\n",
       "    return false;\n",
       "  }\n",
       "\n",
       "  var js_urls = [\"https://cdn.pydata.org/bokeh/release/bokeh-0.12.4.min.js\", \"https://cdn.pydata.org/bokeh/release/bokeh-widgets-0.12.4.min.js\"];\n",
       "\n",
       "  var inline_js = [\n",
       "    function(Bokeh) {\n",
       "      Bokeh.set_log_level(\"info\");\n",
       "    },\n",
       "    \n",
       "    function(Bokeh) {\n",
       "      \n",
       "      document.getElementById(\"1d0bfe0d-9673-4749-97f8-1c3f520caad8\").textContent = \"BokehJS is loading...\";\n",
       "    },\n",
       "    function(Bokeh) {\n",
       "      console.log(\"Bokeh: injecting CSS: https://cdn.pydata.org/bokeh/release/bokeh-0.12.4.min.css\");\n",
       "      Bokeh.embed.inject_css(\"https://cdn.pydata.org/bokeh/release/bokeh-0.12.4.min.css\");\n",
       "      console.log(\"Bokeh: injecting CSS: https://cdn.pydata.org/bokeh/release/bokeh-widgets-0.12.4.min.css\");\n",
       "      Bokeh.embed.inject_css(\"https://cdn.pydata.org/bokeh/release/bokeh-widgets-0.12.4.min.css\");\n",
       "    }\n",
       "  ];\n",
       "\n",
       "  function run_inline_js() {\n",
       "    \n",
       "    if ((window.Bokeh !== undefined) || (force === true)) {\n",
       "      for (var i = 0; i < inline_js.length; i++) {\n",
       "        inline_js[i](window.Bokeh);\n",
       "      }if (force === true) {\n",
       "        display_loaded();\n",
       "      }} else if (Date.now() < window._bokeh_timeout) {\n",
       "      setTimeout(run_inline_js, 100);\n",
       "    } else if (!window._bokeh_failed_load) {\n",
       "      console.log(\"Bokeh: BokehJS failed to load within specified timeout.\");\n",
       "      window._bokeh_failed_load = true;\n",
       "    } else if (force !== true) {\n",
       "      var cell = $(document.getElementById(\"1d0bfe0d-9673-4749-97f8-1c3f520caad8\")).parents('.cell').data().cell;\n",
       "      cell.output_area.append_execute_result(NB_LOAD_WARNING)\n",
       "    }\n",
       "\n",
       "  }\n",
       "\n",
       "  if (window._bokeh_is_loading === 0) {\n",
       "    console.log(\"Bokeh: BokehJS loaded, going straight to plotting\");\n",
       "    run_inline_js();\n",
       "  } else {\n",
       "    load_libs(js_urls, function() {\n",
       "      console.log(\"Bokeh: BokehJS plotting callback run at\", now());\n",
       "      run_inline_js();\n",
       "    });\n",
       "  }\n",
       "}(this));"
      ]
     },
     "metadata": {},
     "output_type": "display_data"
    },
    {
     "data": {
      "text/html": [
       "\n",
       "\n",
       "    <div class=\"bk-root\">\n",
       "        <div class=\"bk-plotdiv\" id=\"b97eec66-63f8-4267-8e2d-0a6e930276c7\"></div>\n",
       "    </div>\n",
       "<script type=\"text/javascript\">\n",
       "  \n",
       "  (function(global) {\n",
       "    function now() {\n",
       "      return new Date();\n",
       "    }\n",
       "  \n",
       "    var force = false;\n",
       "  \n",
       "    if (typeof (window._bokeh_onload_callbacks) === \"undefined\" || force === true) {\n",
       "      window._bokeh_onload_callbacks = [];\n",
       "      window._bokeh_is_loading = undefined;\n",
       "    }\n",
       "  \n",
       "  \n",
       "    \n",
       "    if (typeof (window._bokeh_timeout) === \"undefined\" || force === true) {\n",
       "      window._bokeh_timeout = Date.now() + 0;\n",
       "      window._bokeh_failed_load = false;\n",
       "    }\n",
       "  \n",
       "    var NB_LOAD_WARNING = {'data': {'text/html':\n",
       "       \"<div style='background-color: #fdd'>\\n\"+\n",
       "       \"<p>\\n\"+\n",
       "       \"BokehJS does not appear to have successfully loaded. If loading BokehJS from CDN, this \\n\"+\n",
       "       \"may be due to a slow or bad network connection. Possible fixes:\\n\"+\n",
       "       \"</p>\\n\"+\n",
       "       \"<ul>\\n\"+\n",
       "       \"<li>re-rerun `output_notebook()` to attempt to load from CDN again, or</li>\\n\"+\n",
       "       \"<li>use INLINE resources instead, as so:</li>\\n\"+\n",
       "       \"</ul>\\n\"+\n",
       "       \"<code>\\n\"+\n",
       "       \"from bokeh.resources import INLINE\\n\"+\n",
       "       \"output_notebook(resources=INLINE)\\n\"+\n",
       "       \"</code>\\n\"+\n",
       "       \"</div>\"}};\n",
       "  \n",
       "    function display_loaded() {\n",
       "      if (window.Bokeh !== undefined) {\n",
       "        document.getElementById(\"b97eec66-63f8-4267-8e2d-0a6e930276c7\").textContent = \"BokehJS successfully loaded.\";\n",
       "      } else if (Date.now() < window._bokeh_timeout) {\n",
       "        setTimeout(display_loaded, 100)\n",
       "      }\n",
       "    }\n",
       "  \n",
       "    function run_callbacks() {\n",
       "      window._bokeh_onload_callbacks.forEach(function(callback) { callback() });\n",
       "      delete window._bokeh_onload_callbacks\n",
       "      console.info(\"Bokeh: all callbacks have finished\");\n",
       "    }\n",
       "  \n",
       "    function load_libs(js_urls, callback) {\n",
       "      window._bokeh_onload_callbacks.push(callback);\n",
       "      if (window._bokeh_is_loading > 0) {\n",
       "        console.log(\"Bokeh: BokehJS is being loaded, scheduling callback at\", now());\n",
       "        return null;\n",
       "      }\n",
       "      if (js_urls == null || js_urls.length === 0) {\n",
       "        run_callbacks();\n",
       "        return null;\n",
       "      }\n",
       "      console.log(\"Bokeh: BokehJS not loaded, scheduling load and callback at\", now());\n",
       "      window._bokeh_is_loading = js_urls.length;\n",
       "      for (var i = 0; i < js_urls.length; i++) {\n",
       "        var url = js_urls[i];\n",
       "        var s = document.createElement('script');\n",
       "        s.src = url;\n",
       "        s.async = false;\n",
       "        s.onreadystatechange = s.onload = function() {\n",
       "          window._bokeh_is_loading--;\n",
       "          if (window._bokeh_is_loading === 0) {\n",
       "            console.log(\"Bokeh: all BokehJS libraries loaded\");\n",
       "            run_callbacks()\n",
       "          }\n",
       "        };\n",
       "        s.onerror = function() {\n",
       "          console.warn(\"failed to load library \" + url);\n",
       "        };\n",
       "        console.log(\"Bokeh: injecting script tag for BokehJS library: \", url);\n",
       "        document.getElementsByTagName(\"head\")[0].appendChild(s);\n",
       "      }\n",
       "    };var element = document.getElementById(\"b97eec66-63f8-4267-8e2d-0a6e930276c7\");\n",
       "    if (element == null) {\n",
       "      console.log(\"Bokeh: ERROR: autoload.js configured with elementid 'b97eec66-63f8-4267-8e2d-0a6e930276c7' but no matching script tag was found. \")\n",
       "      return false;\n",
       "    }\n",
       "  \n",
       "    var js_urls = [];\n",
       "  \n",
       "    var inline_js = [\n",
       "      function(Bokeh) {\n",
       "        (function() {\n",
       "          var fn = function() {\n",
       "            var docs_json = {\"18318c7b-d1e2-40a2-831f-9ddb5c44f738\":{\"roots\":{\"references\":[{\"attributes\":{\"callback\":null},\"id\":\"7a28dec3-450f-47b3-b157-7ddf1a14e211\",\"type\":\"DataRange1d\"},{\"attributes\":{\"plot\":{\"id\":\"b72fe4cb-48e5-4d33-aa77-e1606b42240f\",\"subtype\":\"Figure\",\"type\":\"Plot\"}},\"id\":\"02f6d669-124b-47e0-945e-0a607e3b1d6d\",\"type\":\"SaveTool\"},{\"attributes\":{\"plot\":null,\"text\":\"Word Positive/Negative Affinity Distribution on Twitter Data set\"},\"id\":\"d902390b-23e1-494f-b840-33116f377850\",\"type\":\"Title\"},{\"attributes\":{},\"id\":\"4911dc16-4134-498d-bba1-3a99f1e52f61\",\"type\":\"ToolEvents\"},{\"attributes\":{\"active_drag\":\"auto\",\"active_scroll\":\"auto\",\"active_tap\":\"auto\",\"tools\":[{\"id\":\"809a3813-2406-4645-b492-20a757bf554c\",\"type\":\"PanTool\"},{\"id\":\"799cbaa5-b199-4bf4-9370-739a424ace4a\",\"type\":\"WheelZoomTool\"},{\"id\":\"0106e1ed-eb4e-4ae8-8c78-b5d361975f47\",\"type\":\"ResetTool\"},{\"id\":\"02f6d669-124b-47e0-945e-0a607e3b1d6d\",\"type\":\"SaveTool\"}]},\"id\":\"b42ea428-6cc8-46b8-8e25-2b9886622be6\",\"type\":\"Toolbar\"},{\"attributes\":{},\"id\":\"1620fbe8-3790-4783-8967-a8172b816bcf\",\"type\":\"BasicTickFormatter\"},{\"attributes\":{\"bottom\":{\"value\":0},\"fill_alpha\":{\"value\":0.1},\"fill_color\":{\"value\":\"#1f77b4\"},\"left\":{\"field\":\"left\"},\"line_alpha\":{\"value\":0.1},\"line_color\":{\"value\":\"#1f77b4\"},\"right\":{\"field\":\"right\"},\"top\":{\"field\":\"top\"}},\"id\":\"4d8508f6-18f8-40fd-a695-0e79ab9744b1\",\"type\":\"Quad\"},{\"attributes\":{\"formatter\":{\"id\":\"bbf12f75-5d30-490e-9763-577178a8d4da\",\"type\":\"BasicTickFormatter\"},\"plot\":{\"id\":\"b72fe4cb-48e5-4d33-aa77-e1606b42240f\",\"subtype\":\"Figure\",\"type\":\"Plot\"},\"ticker\":{\"id\":\"5b9cbb0d-9cbb-4b62-943c-397368f86421\",\"type\":\"BasicTicker\"}},\"id\":\"6df7831e-d993-4252-bda1-247642b13a90\",\"type\":\"LinearAxis\"},{\"attributes\":{\"callback\":null},\"id\":\"10254e72-8443-4139-91e5-f5b03b7fd940\",\"type\":\"DataRange1d\"},{\"attributes\":{\"bottom\":{\"value\":0},\"fill_color\":{\"value\":\"#1f77b4\"},\"left\":{\"field\":\"left\"},\"line_color\":{\"value\":\"#555555\"},\"right\":{\"field\":\"right\"},\"top\":{\"field\":\"top\"}},\"id\":\"f23b37cd-da5b-46a2-b05a-11b066f14635\",\"type\":\"Quad\"},{\"attributes\":{},\"id\":\"5b9cbb0d-9cbb-4b62-943c-397368f86421\",\"type\":\"BasicTicker\"},{\"attributes\":{\"plot\":{\"id\":\"b72fe4cb-48e5-4d33-aa77-e1606b42240f\",\"subtype\":\"Figure\",\"type\":\"Plot\"},\"ticker\":{\"id\":\"5b9cbb0d-9cbb-4b62-943c-397368f86421\",\"type\":\"BasicTicker\"}},\"id\":\"4fe02dbc-59cf-4489-8bcf-84033852ac35\",\"type\":\"Grid\"},{\"attributes\":{\"formatter\":{\"id\":\"1620fbe8-3790-4783-8967-a8172b816bcf\",\"type\":\"BasicTickFormatter\"},\"plot\":{\"id\":\"b72fe4cb-48e5-4d33-aa77-e1606b42240f\",\"subtype\":\"Figure\",\"type\":\"Plot\"},\"ticker\":{\"id\":\"182b169d-1786-4e1c-a7f1-f1924f5f8fa8\",\"type\":\"BasicTicker\"}},\"id\":\"1bfcc503-5aa8-406a-bc65-a44f36f4b687\",\"type\":\"LinearAxis\"},{\"attributes\":{},\"id\":\"182b169d-1786-4e1c-a7f1-f1924f5f8fa8\",\"type\":\"BasicTicker\"},{\"attributes\":{\"dimension\":1,\"plot\":{\"id\":\"b72fe4cb-48e5-4d33-aa77-e1606b42240f\",\"subtype\":\"Figure\",\"type\":\"Plot\"},\"ticker\":{\"id\":\"182b169d-1786-4e1c-a7f1-f1924f5f8fa8\",\"type\":\"BasicTicker\"}},\"id\":\"0158f399-a8b1-4fe3-8a96-7a9737f3702b\",\"type\":\"Grid\"},{\"attributes\":{\"data_source\":{\"id\":\"07befa3d-7b90-4bfa-bbe6-ed3a3edac768\",\"type\":\"ColumnDataSource\"},\"glyph\":{\"id\":\"f23b37cd-da5b-46a2-b05a-11b066f14635\",\"type\":\"Quad\"},\"hover_glyph\":null,\"nonselection_glyph\":{\"id\":\"4d8508f6-18f8-40fd-a695-0e79ab9744b1\",\"type\":\"Quad\"},\"selection_glyph\":null},\"id\":\"971c12d4-8ee2-4c49-b6f8-63f2d5b85292\",\"type\":\"GlyphRenderer\"},{\"attributes\":{},\"id\":\"bbf12f75-5d30-490e-9763-577178a8d4da\",\"type\":\"BasicTickFormatter\"},{\"attributes\":{\"plot\":{\"id\":\"b72fe4cb-48e5-4d33-aa77-e1606b42240f\",\"subtype\":\"Figure\",\"type\":\"Plot\"}},\"id\":\"809a3813-2406-4645-b492-20a757bf554c\",\"type\":\"PanTool\"},{\"attributes\":{\"callback\":null,\"column_names\":[\"left\",\"right\",\"top\"],\"data\":{\"left\":{\"__ndarray__\":\"FlW1u7FrEsBuVUHbhQASwMdVzfpZlRHAH1ZZGi4qEcB3VuU5Ar8QwM9WcVnWUxDAT6768VTRD8AArxIx/foOwLCvKnClJA7AYbBCr01ODcASsVru9XcMwMKxci2eoQvAcrKKbEbLCsAjs6Kr7vQJwNSzuuqWHgnAhLTSKT9ICMA0tepo53EHwOW1AqiPmwbAlrYa5zfFBcBGtzIm4O4EwPe3SmWIGATAp7hipDBCA8BYuXrj2GsCwAi6kiKBlQHAubqqYSm/AMDSdoVBo9H/vzR4tb/zJP6/lHnlPUR4/L/2ehW8lMv6v1Z8RTrlHvm/uH11uDVy978Yf6U2hsX1v3qA1bTWGPS/3IEFMyds8r88gzWxd7/wvzwJy16QJe6//AsrWzHM6r/ADotX0nLnv4AR61NzGeS/QBRLUBTA4L8QLlaZas3av5AzFpKsGtS/IHKsFd3Pyr9A+lgOwtS6vwAAIbLikyO/gNmmKy7Buj/AYVMkE8bKP2CraZnHFdQ/0KWpoIXI2j8o0PTTob3gP2jNlNcAF+Q/oMo0219w5z/gx9TevsnqPyDFdOIdI+4/MGEKcz6+8D/MX9r07WryP2xeqnadF/Q/DF16+EzE9T+sW0p6/HD3P0haGvyrHfk/6FjqfVvK+j+IV7r/Cnf8PyhWioG6I/4/xFRaA2rQ/z+yKZXCjL4AQAIpfYPklAFAUChlRDxrAkCgJ00FlEEDQPAmNcbrFwRAQCYdh0PuBECOJQVIm8QFQN4k7QjzmgZALiTVyUpxB0B+I72KokcIQMwipUv6HQlAHCKNDFL0CUBsIXXNqcoKQLwgXY4BoQtADCBFT1l3DEBcHy0QsU0NQKgeFdEIJA5A+B39kWD6DkBIHeVSuNAPQEyO5gmIUxBA9I1a6rO+EECcjc7K3ykRQESNQqsLlRFA6oy2izcAEkCSjCpsY2sSQDqMnkyP1hJA4osSLbtBE0CKi4YN56wTQDKL+u0SGBRA2opuzj6DFECCiuKuau4UQCiKVo+WWRVA0InKb8LEFUB4iT5Q7i8WQCCJsjAamxZAyIgmEUYGF0A=\",\"dtype\":\"float64\",\"shape\":[100]},\"right\":{\"__ndarray__\":\"blVB24UAEsDHVc36WZURwB9WWRouKhHAd1blOQK/EMDPVnFZ1lMQwE+u+vFU0Q/AAK8SMf36DsCwrypwpSQOwGGwQq9NTg3AErFa7vV3DMDCsXItnqELwHKyimxGywrAI7Oiq+70CcDUs7rqlh4JwIS00ik/SAjANLXqaOdxB8DltQKoj5sGwJa2Guc3xQXARrcyJuDuBMD3t0pliBgEwKe4YqQwQgPAWLl649hrAsAIupIigZUBwLm6qmEpvwDA0naFQaPR/780eLW/8yT+v5R55T1EePy/9noVvJTL+r9WfEU65R75v7h9dbg1cve/GH+lNobF9b96gNW01hj0v9yBBTMnbPK/PIM1sXe/8L88CctekCXuv/wLK1sxzOq/wA6LV9Jy57+AEetTcxnkv0AUS1AUwOC/EC5WmWrN2r+QMxaSrBrUvyByrBXdz8q/QPpYDsLUur8AACGy4pMjv4DZpisuwbo/wGFTJBPGyj9gq2mZxxXUP9ClqaCFyNo/KND006G94D9ozZTXABfkP6DKNNtfcOc/4MfU3r7J6j8gxXTiHSPuPzBhCnM+vvA/zF/a9O1q8j9sXqp2nRf0PwxdevhMxPU/rFtKevxw9z9IWhr8qx35P+hY6n1byvo/iFe6/wp3/D8oVoqBuiP+P8RUWgNq0P8/simVwoy+AEACKX2D5JQBQFAoZUQ8awJAoCdNBZRBA0DwJjXG6xcEQEAmHYdD7gRAjiUFSJvEBUDeJO0I85oGQC4k1clKcQdAfiO9iqJHCEDMIqVL+h0JQBwijQxS9AlAbCF1zanKCkC8IF2OAaELQAwgRU9ZdwxAXB8tELFNDUCoHhXRCCQOQPgd/ZFg+g5ASB3lUrjQD0BMjuYJiFMQQPSNWuqzvhBAnI3Oyt8pEUBEjUKrC5URQOqMtos3ABJAkowqbGNrEkA6jJ5Mj9YSQOKLEi27QRNAiouGDeesE0Ayi/rtEhgUQNqKbs4+gxRAgorirmruFEAoilaPllkVQNCJym/CxBVAeIk+UO4vFkAgibIwGpsWQMiIJhFGBhdAcIia8XFxF0A=\",\"dtype\":\"float64\",\"shape\":[100]},\"top\":{\"__ndarray__\":\"dkyS26pIcT8AAAAAAAAAAAAAAAAAAAAAAAAAAAAAAAAAAAAAAAAAAAAAAAAAAAAAAAAAAAAAAADzZRh6jgtXPw9mGHqOC1c/D2YYeo4LZz/zZRh6jgtXP/NlGHqOC1c/D2YYeo4LZz8PZhh6jgtnP3ZMktuqSHE/b3+eGHLOfD+Sf54Ycs58P5J/nhhyznw/NFnVqhwqlD+LTJLbqkiRP3ZMktuqSJE/Mfn8MLldmz+T33aS1ZqVP1SM4efjr58/NFnVqhwqpD9MWdWqHCqkP2Qcph554qQ/Mfn8MLldqz+mD2NPBwGyPxyWBDfAcbM/1dIzw2O5sj9MWdWqHCq0PzH5/DC5Xbs/ryfZLSA0wD/lur3kSobEP2AQa6/syMU/1H6WuIwGyT+soTv2WafQP1wEMEBgr9Y/8Pj4gMZ52T9iW+3KzIHfP6LG9vvdreI/OWUQGqlD4z/5okcGMlPmP+2WDu+eK+g/8yjnlfHR5j/TTJaLnSzjP9JYz6IwVOE/QkJr3Nui2z+q4IKirUbbP5eiQ1Y/b9Q/eJcU94oByz/DokcGMlPGP2Qcph554sQ/IDYsvVyluj/8fY5Ypz61PxD5/DC5Xas/k992ktWapT8XBkAAKz+eP29/nhhyzpw/sXJbSQDtmT92TJLbqkiRP59MktuqSIE/dkyS26pIcT9vf54Ycs58PwAAAAAAAAAAdkyS26pIcT/zZRh6jgtXP/NlGHqOC3c/KWYYeo4LVz/zZRh6jgtXPwAAAAAAAAAA82UYeo4LVz8AAAAAAAAAAAAAAAAAAAAAAAAAAAAAAAAAAAAAAAAAAAAAAAAAAAAAAAAAAAAAAAAAAAAAAAAAAAAAAAAAAAAA82UYeo4LVz8AAAAAAAAAAPNlGHqOC1c/AAAAAAAAAAAAAAAAAAAAAAAAAAAAAAAAAAAAAAAAAAAAAAAAAAAAAAAAAAAAAAAA82UYeo4LVz8AAAAAAAAAAAAAAAAAAAAAAAAAAAAAAABhZhh6jgtXPwAAAAAAAAAAAAAAAAAAAAAAAAAAAAAAAAAAAAAAAAAA82UYeo4LVz8=\",\"dtype\":\"float64\",\"shape\":[100]}}},\"id\":\"07befa3d-7b90-4bfa-bbe6-ed3a3edac768\",\"type\":\"ColumnDataSource\"},{\"attributes\":{\"plot\":{\"id\":\"b72fe4cb-48e5-4d33-aa77-e1606b42240f\",\"subtype\":\"Figure\",\"type\":\"Plot\"}},\"id\":\"799cbaa5-b199-4bf4-9370-739a424ace4a\",\"type\":\"WheelZoomTool\"},{\"attributes\":{\"below\":[{\"id\":\"6df7831e-d993-4252-bda1-247642b13a90\",\"type\":\"LinearAxis\"}],\"left\":[{\"id\":\"1bfcc503-5aa8-406a-bc65-a44f36f4b687\",\"type\":\"LinearAxis\"}],\"renderers\":[{\"id\":\"6df7831e-d993-4252-bda1-247642b13a90\",\"type\":\"LinearAxis\"},{\"id\":\"4fe02dbc-59cf-4489-8bcf-84033852ac35\",\"type\":\"Grid\"},{\"id\":\"1bfcc503-5aa8-406a-bc65-a44f36f4b687\",\"type\":\"LinearAxis\"},{\"id\":\"0158f399-a8b1-4fe3-8a96-7a9737f3702b\",\"type\":\"Grid\"},{\"id\":\"971c12d4-8ee2-4c49-b6f8-63f2d5b85292\",\"type\":\"GlyphRenderer\"}],\"title\":{\"id\":\"d902390b-23e1-494f-b840-33116f377850\",\"type\":\"Title\"},\"tool_events\":{\"id\":\"4911dc16-4134-498d-bba1-3a99f1e52f61\",\"type\":\"ToolEvents\"},\"toolbar\":{\"id\":\"b42ea428-6cc8-46b8-8e25-2b9886622be6\",\"type\":\"Toolbar\"},\"toolbar_location\":\"above\",\"x_range\":{\"id\":\"7a28dec3-450f-47b3-b157-7ddf1a14e211\",\"type\":\"DataRange1d\"},\"y_range\":{\"id\":\"10254e72-8443-4139-91e5-f5b03b7fd940\",\"type\":\"DataRange1d\"}},\"id\":\"b72fe4cb-48e5-4d33-aa77-e1606b42240f\",\"subtype\":\"Figure\",\"type\":\"Plot\"},{\"attributes\":{\"plot\":{\"id\":\"b72fe4cb-48e5-4d33-aa77-e1606b42240f\",\"subtype\":\"Figure\",\"type\":\"Plot\"}},\"id\":\"0106e1ed-eb4e-4ae8-8c78-b5d361975f47\",\"type\":\"ResetTool\"}],\"root_ids\":[\"b72fe4cb-48e5-4d33-aa77-e1606b42240f\"]},\"title\":\"Bokeh Application\",\"version\":\"0.12.4\"}};\n",
       "            var render_items = [{\"docid\":\"18318c7b-d1e2-40a2-831f-9ddb5c44f738\",\"elementid\":\"b97eec66-63f8-4267-8e2d-0a6e930276c7\",\"modelid\":\"b72fe4cb-48e5-4d33-aa77-e1606b42240f\"}];\n",
       "            \n",
       "            Bokeh.embed.embed_items(docs_json, render_items);\n",
       "          };\n",
       "          if (document.readyState != \"loading\") fn();\n",
       "          else document.addEventListener(\"DOMContentLoaded\", fn);\n",
       "        })();\n",
       "      },\n",
       "      function(Bokeh) {\n",
       "      }\n",
       "    ];\n",
       "  \n",
       "    function run_inline_js() {\n",
       "      \n",
       "      if ((window.Bokeh !== undefined) || (force === true)) {\n",
       "        for (var i = 0; i < inline_js.length; i++) {\n",
       "          inline_js[i](window.Bokeh);\n",
       "        }if (force === true) {\n",
       "          display_loaded();\n",
       "        }} else if (Date.now() < window._bokeh_timeout) {\n",
       "        setTimeout(run_inline_js, 100);\n",
       "      } else if (!window._bokeh_failed_load) {\n",
       "        console.log(\"Bokeh: BokehJS failed to load within specified timeout.\");\n",
       "        window._bokeh_failed_load = true;\n",
       "      } else if (force !== true) {\n",
       "        var cell = $(document.getElementById(\"b97eec66-63f8-4267-8e2d-0a6e930276c7\")).parents('.cell').data().cell;\n",
       "        cell.output_area.append_execute_result(NB_LOAD_WARNING)\n",
       "      }\n",
       "  \n",
       "    }\n",
       "  \n",
       "    if (window._bokeh_is_loading === 0) {\n",
       "      console.log(\"Bokeh: BokehJS loaded, going straight to plotting\");\n",
       "      run_inline_js();\n",
       "    } else {\n",
       "      load_libs(js_urls, function() {\n",
       "        console.log(\"Bokeh: BokehJS plotting callback run at\", now());\n",
       "        run_inline_js();\n",
       "      });\n",
       "    }\n",
       "  }(this));\n",
       "</script>"
      ]
     },
     "metadata": {},
     "output_type": "display_data"
    }
   ],
   "source": [
    "output_notebook()\n",
    "hist, edges = np.histogram(list(map(lambda x:x[1],pos_neg_ratios.most_common())), density=True, bins=100, normed=True)\n",
    "\n",
    "p = figure(tools=\"pan,wheel_zoom,reset,save\",\n",
    "           toolbar_location=\"above\",\n",
    "           title=\"Word Positive/Negative Affinity Distribution on Twitter Data set\")\n",
    "p.quad(top=hist, bottom=0, left=edges[:-1], right=edges[1:], line_color=\"#555555\")\n",
    "show(p)"
   ]
  },
  {
   "cell_type": "markdown",
   "metadata": {},
   "source": [
    "### Zipf Distribution\n",
    "\n",
    "The plot below shows that words in Twitter vocabulary follow Zip Distribution.\n",
    "i.e. Less Frequent words are more than High Frequency words."
   ]
  },
  {
   "cell_type": "code",
   "execution_count": 33,
   "metadata": {
    "collapsed": false
   },
   "outputs": [
    {
     "data": {
      "text/html": [
       "\n",
       "\n",
       "    <div class=\"bk-root\">\n",
       "        <div class=\"bk-plotdiv\" id=\"efd6f1fb-830b-4595-b9d9-b028bf3950d9\"></div>\n",
       "    </div>\n",
       "<script type=\"text/javascript\">\n",
       "  \n",
       "  (function(global) {\n",
       "    function now() {\n",
       "      return new Date();\n",
       "    }\n",
       "  \n",
       "    var force = false;\n",
       "  \n",
       "    if (typeof (window._bokeh_onload_callbacks) === \"undefined\" || force === true) {\n",
       "      window._bokeh_onload_callbacks = [];\n",
       "      window._bokeh_is_loading = undefined;\n",
       "    }\n",
       "  \n",
       "  \n",
       "    \n",
       "    if (typeof (window._bokeh_timeout) === \"undefined\" || force === true) {\n",
       "      window._bokeh_timeout = Date.now() + 0;\n",
       "      window._bokeh_failed_load = false;\n",
       "    }\n",
       "  \n",
       "    var NB_LOAD_WARNING = {'data': {'text/html':\n",
       "       \"<div style='background-color: #fdd'>\\n\"+\n",
       "       \"<p>\\n\"+\n",
       "       \"BokehJS does not appear to have successfully loaded. If loading BokehJS from CDN, this \\n\"+\n",
       "       \"may be due to a slow or bad network connection. Possible fixes:\\n\"+\n",
       "       \"</p>\\n\"+\n",
       "       \"<ul>\\n\"+\n",
       "       \"<li>re-rerun `output_notebook()` to attempt to load from CDN again, or</li>\\n\"+\n",
       "       \"<li>use INLINE resources instead, as so:</li>\\n\"+\n",
       "       \"</ul>\\n\"+\n",
       "       \"<code>\\n\"+\n",
       "       \"from bokeh.resources import INLINE\\n\"+\n",
       "       \"output_notebook(resources=INLINE)\\n\"+\n",
       "       \"</code>\\n\"+\n",
       "       \"</div>\"}};\n",
       "  \n",
       "    function display_loaded() {\n",
       "      if (window.Bokeh !== undefined) {\n",
       "        document.getElementById(\"efd6f1fb-830b-4595-b9d9-b028bf3950d9\").textContent = \"BokehJS successfully loaded.\";\n",
       "      } else if (Date.now() < window._bokeh_timeout) {\n",
       "        setTimeout(display_loaded, 100)\n",
       "      }\n",
       "    }\n",
       "  \n",
       "    function run_callbacks() {\n",
       "      window._bokeh_onload_callbacks.forEach(function(callback) { callback() });\n",
       "      delete window._bokeh_onload_callbacks\n",
       "      console.info(\"Bokeh: all callbacks have finished\");\n",
       "    }\n",
       "  \n",
       "    function load_libs(js_urls, callback) {\n",
       "      window._bokeh_onload_callbacks.push(callback);\n",
       "      if (window._bokeh_is_loading > 0) {\n",
       "        console.log(\"Bokeh: BokehJS is being loaded, scheduling callback at\", now());\n",
       "        return null;\n",
       "      }\n",
       "      if (js_urls == null || js_urls.length === 0) {\n",
       "        run_callbacks();\n",
       "        return null;\n",
       "      }\n",
       "      console.log(\"Bokeh: BokehJS not loaded, scheduling load and callback at\", now());\n",
       "      window._bokeh_is_loading = js_urls.length;\n",
       "      for (var i = 0; i < js_urls.length; i++) {\n",
       "        var url = js_urls[i];\n",
       "        var s = document.createElement('script');\n",
       "        s.src = url;\n",
       "        s.async = false;\n",
       "        s.onreadystatechange = s.onload = function() {\n",
       "          window._bokeh_is_loading--;\n",
       "          if (window._bokeh_is_loading === 0) {\n",
       "            console.log(\"Bokeh: all BokehJS libraries loaded\");\n",
       "            run_callbacks()\n",
       "          }\n",
       "        };\n",
       "        s.onerror = function() {\n",
       "          console.warn(\"failed to load library \" + url);\n",
       "        };\n",
       "        console.log(\"Bokeh: injecting script tag for BokehJS library: \", url);\n",
       "        document.getElementsByTagName(\"head\")[0].appendChild(s);\n",
       "      }\n",
       "    };var element = document.getElementById(\"efd6f1fb-830b-4595-b9d9-b028bf3950d9\");\n",
       "    if (element == null) {\n",
       "      console.log(\"Bokeh: ERROR: autoload.js configured with elementid 'efd6f1fb-830b-4595-b9d9-b028bf3950d9' but no matching script tag was found. \")\n",
       "      return false;\n",
       "    }\n",
       "  \n",
       "    var js_urls = [];\n",
       "  \n",
       "    var inline_js = [\n",
       "      function(Bokeh) {\n",
       "        (function() {\n",
       "          var fn = function() {\n",
       "            var docs_json = {\"90e2d7a3-2be4-4889-98ac-409188eb1a8a\":{\"roots\":{\"references\":[{\"attributes\":{\"dimension\":1,\"plot\":{\"id\":\"fc713302-c969-4770-b5b1-4612d4ca33d4\",\"subtype\":\"Figure\",\"type\":\"Plot\"},\"ticker\":{\"id\":\"e92b0cb7-52ff-4b18-b55e-257e674394cf\",\"type\":\"BasicTicker\"}},\"id\":\"04bad629-cdcc-4291-aa11-7ec944db6693\",\"type\":\"Grid\"},{\"attributes\":{\"plot\":{\"id\":\"fc713302-c969-4770-b5b1-4612d4ca33d4\",\"subtype\":\"Figure\",\"type\":\"Plot\"}},\"id\":\"8f6add72-934c-4a21-ba3c-b029ddc7dd29\",\"type\":\"SaveTool\"},{\"attributes\":{\"active_drag\":\"auto\",\"active_scroll\":\"auto\",\"active_tap\":\"auto\",\"tools\":[{\"id\":\"ac9328ff-4096-4e0d-a8c6-fdeb14b090e3\",\"type\":\"PanTool\"},{\"id\":\"256e7b1a-4a5f-41c8-8dcf-4cfb245dfa20\",\"type\":\"WheelZoomTool\"},{\"id\":\"f5bd0ac6-6c5a-4dff-9c5d-987050243da3\",\"type\":\"ResetTool\"},{\"id\":\"8f6add72-934c-4a21-ba3c-b029ddc7dd29\",\"type\":\"SaveTool\"}]},\"id\":\"7043020e-a643-4067-ab66-544de9a4d104\",\"type\":\"Toolbar\"},{\"attributes\":{\"plot\":{\"id\":\"fc713302-c969-4770-b5b1-4612d4ca33d4\",\"subtype\":\"Figure\",\"type\":\"Plot\"}},\"id\":\"256e7b1a-4a5f-41c8-8dcf-4cfb245dfa20\",\"type\":\"WheelZoomTool\"},{\"attributes\":{\"callback\":null,\"column_names\":[\"left\",\"right\",\"top\"],\"data\":{\"left\":{\"__ndarray__\":\"AAAAAAAA8D9mZmZm5milQGZmZmbmZ7VAzMzMzKwNwEBmZmZmZmfFQAAAAAAgwcpAzMzMzGwN0ECZmZmZSbrSQGZmZmYmZ9VAMzMzMwMU2EAAAAAA4MDaQMzMzMy8bd1AzMzMzEwN4EAzMzMzu2PhQJmZmZkpuuJAAAAAAJgQ5EBmZmZmBmflQMzMzMx0veZAMzMzM+MT6ECZmZmZUWrpQAAAAADAwOpAZmZmZi4X7EDMzMzMnG3tQDMzMzMLxO5AzMzMzDwN8EAAAAAAdLjwQDMzMzOrY/FAZmZmZuIO8kCZmZmZGbryQMzMzMxQZfNAAAAAAIgQ9EAzMzMzv7v0QGZmZmb2ZvVAmZmZmS0S9kDMzMzMZL32QAAAAACcaPdAMzMzM9MT+EBmZmZmCr/4QJmZmZlBavlAzMzMzHgV+kAAAAAAsMD6QDMzMzPna/tAZmZmZh4X/ECZmZmZVcL8QMzMzMyMbf1A/////8MY/kAzMzMz+8P+QGZmZmYyb/9AzMzMzDQNAEFmZmZm0GIAQQAAAABsuABBmZmZmQcOAUEzMzMzo2MBQczMzMw+uQFBZmZmZtoOAkEAAAAAdmQCQZmZmZkRugJBMzMzM60PA0HMzMzMSGUDQWZmZmbkugNBAAAAAIAQBEGZmZmZG2YEQTMzMzO3uwRBzMzMzFIRBUFmZmZm7mYFQQAAAACKvAVBmZmZmSUSBkEzMzMzwWcGQczMzMxcvQZBZmZmZvgSB0EAAAAAlGgHQZmZmZkvvgdBMzMzM8sTCEHMzMzMZmkIQWZmZmYCvwhBAAAAAJ4UCUGZmZmZOWoJQTMzMzPVvwlBzMzMzHAVCkFmZmZmDGsKQQAAAACowApBmZmZmUMWC0EzMzMz32sLQczMzMx6wQtBZmZmZhYXDEH/////sWwMQZmZmZlNwgxBMzMzM+kXDUHMzMzMhG0NQWZmZmYgww1B/////7sYDkGZmZmZV24OQTMzMzPzww5BzMzMzI4ZD0FmZmZmKm8PQf/////FxA9BzMzMzDANEEGZmZmZ/jcQQWZmZmbMYhBBMzMzM5qNEEE=\",\"dtype\":\"float64\",\"shape\":[100]},\"right\":{\"__ndarray__\":\"ZmZmZuZopUBmZmZm5me1QMzMzMysDcBAZmZmZmZnxUAAAAAAIMHKQMzMzMxsDdBAmZmZmUm60kBmZmZmJmfVQDMzMzMDFNhAAAAAAODA2kDMzMzMvG3dQMzMzMxMDeBAMzMzM7tj4UCZmZmZKbriQAAAAACYEORAZmZmZgZn5UDMzMzMdL3mQDMzMzPjE+hAmZmZmVFq6UAAAAAAwMDqQGZmZmYuF+xAzMzMzJxt7UAzMzMzC8TuQMzMzMw8DfBAAAAAAHS48EAzMzMzq2PxQGZmZmbiDvJAmZmZmRm68kDMzMzMUGXzQAAAAACIEPRAMzMzM7+79EBmZmZm9mb1QJmZmZktEvZAzMzMzGS99kAAAAAAnGj3QDMzMzPTE/hAZmZmZgq/+ECZmZmZQWr5QMzMzMx4FfpAAAAAALDA+kAzMzMz52v7QGZmZmYeF/xAmZmZmVXC/EDMzMzMjG39QP/////DGP5AMzMzM/vD/kBmZmZmMm//QMzMzMw0DQBBZmZmZtBiAEEAAAAAbLgAQZmZmZkHDgFBMzMzM6NjAUHMzMzMPrkBQWZmZmbaDgJBAAAAAHZkAkGZmZmZEboCQTMzMzOtDwNBzMzMzEhlA0FmZmZm5LoDQQAAAACAEARBmZmZmRtmBEEzMzMzt7sEQczMzMxSEQVBZmZmZu5mBUEAAAAAirwFQZmZmZklEgZBMzMzM8FnBkHMzMzMXL0GQWZmZmb4EgdBAAAAAJRoB0GZmZmZL74HQTMzMzPLEwhBzMzMzGZpCEFmZmZmAr8IQQAAAACeFAlBmZmZmTlqCUEzMzMz1b8JQczMzMxwFQpBZmZmZgxrCkEAAAAAqMAKQZmZmZlDFgtBMzMzM99rC0HMzMzMesELQWZmZmYWFwxB/////7FsDEGZmZmZTcIMQTMzMzPpFw1BzMzMzIRtDUFmZmZmIMMNQf////+7GA5BmZmZmVduDkEzMzMz88MOQczMzMyOGQ9BZmZmZipvD0H/////xcQPQczMzMwwDRBBmZmZmf43EEFmZmZmzGIQQTMzMzOajRBBAAAAAGi4EEE=\",\"dtype\":\"float64\",\"shape\":[100]},\"top\":{\"__ndarray__\":\"lmPtFJ3NNz9zrKWvG4mhPnWspa8biZE+cqylrxuJkT4AAAAAAAAAAAAAAAAAAAAAAAAAAAAAAAByrKWvG4mRPgAAAAAAAAAAAAAAAAAAAAAAAAAAAAAAAAAAAAAAAAAAAAAAAAAAAAAAAAAAAAAAAAAAAAAAAAAAAAAAAAAAAAAAAAAAAAAAAAAAAAAAAAAAeKylrxuJkT4AAAAAAAAAAAAAAAAAAAAAAAAAAAAAAAAAAAAAAAAAAAAAAAAAAAAAAAAAAAAAAAAAAAAAAAAAAAAAAAAAAAAAAAAAAAAAAAAAAAAAAAAAAAAAAAAAAAAAAAAAAAAAAAAAAAAAAAAAAAAAAAAAAAAAAAAAAAAAAAAAAAAAAAAAAAAAAAAAAAAAAAAAAAAAAAAAAAAAAAAAAAAAAAAAAAAAAAAAAAAAAAAAAAAAAAAAAAAAAAAAAAAAAAAAAAAAAAAAAAAAAAAAAAAAAAAAAAAAAAAAAAAAAAAAAAAAAAAAAAAAAAAAAAAAAAAAAAAAAAAAAAAAAAAAAAAAAAAAAAAAAAAAAAAAAAAAAAAAAAAAAAAAAAAAAAAAAAAAAAAAAAAAAAAAAAAAAAAAAAAAAAAAAAAAAAAAAAAAAAAAAAAAAAAAAAAAAAAAAAAAAAAAAAAAAAAAAAAAAAAAAAAAAAAAAAAAAAAAAAAAAAAAAAAAAAAAAAAAAAAAAAAAAAAAAAAAAAAAAAAAAAAAAAAAAAAAAAAAAAAAAAAAAAAAAAAAAAAAAAAAAAAAAAAAAAAAAAAAAAAAAAAAAAAAAAAAAAAAAAAAAAAAAAAAAAAAAAAAAAAAAAAAAAAAAAAAAAAAAAAAAAAAAAAAAAAAAAAAAAAAAAAAAAAAAAAAAAAAAAAAAAAAAAAAAAAAAAAAAAAAAAAAAAAAAAAAAAAAAAAAAAAAAAAAAAAAAAAAAAAAAAAAAAAAAAAAAAAAAAAAAAAAAAAAAAAAAAAAAAAAAAAAAAAAAAAAAAAAAAAAAAAAAAAAAAAAAAAAAAAAAAAAAAAAAAAAAAAAAAAAAAAAAAAAAAAAXqylrxuJkT4=\",\"dtype\":\"float64\",\"shape\":[100]}}},\"id\":\"bd15a5d6-59a3-464d-ad01-e44145fbbd0b\",\"type\":\"ColumnDataSource\"},{\"attributes\":{\"bottom\":{\"value\":0},\"fill_color\":{\"value\":\"#1f77b4\"},\"left\":{\"field\":\"left\"},\"line_color\":{\"value\":\"#555555\"},\"right\":{\"field\":\"right\"},\"top\":{\"field\":\"top\"}},\"id\":\"ad40a4c0-af9e-4e21-bcfa-72a92ce2ff88\",\"type\":\"Quad\"},{\"attributes\":{\"formatter\":{\"id\":\"cfd1e955-6c19-4b3d-bb9a-8912836988d0\",\"type\":\"BasicTickFormatter\"},\"plot\":{\"id\":\"fc713302-c969-4770-b5b1-4612d4ca33d4\",\"subtype\":\"Figure\",\"type\":\"Plot\"},\"ticker\":{\"id\":\"e92b0cb7-52ff-4b18-b55e-257e674394cf\",\"type\":\"BasicTicker\"}},\"id\":\"9ec1c9cd-8de4-438d-bbd2-05f4bb9f428f\",\"type\":\"LinearAxis\"},{\"attributes\":{},\"id\":\"20db1635-e786-4157-912d-bf709d4d7581\",\"type\":\"BasicTickFormatter\"},{\"attributes\":{\"plot\":{\"id\":\"fc713302-c969-4770-b5b1-4612d4ca33d4\",\"subtype\":\"Figure\",\"type\":\"Plot\"}},\"id\":\"ac9328ff-4096-4e0d-a8c6-fdeb14b090e3\",\"type\":\"PanTool\"},{\"attributes\":{\"callback\":null},\"id\":\"d57ebafd-630e-4662-a943-8079f44500bc\",\"type\":\"DataRange1d\"},{\"attributes\":{\"plot\":null,\"text\":\"The Zipf frequency distribution of the Twitter word corpus\"},\"id\":\"0cb578a5-6678-4f71-bb73-4d9ca8d7bb44\",\"type\":\"Title\"},{\"attributes\":{\"formatter\":{\"id\":\"20db1635-e786-4157-912d-bf709d4d7581\",\"type\":\"BasicTickFormatter\"},\"plot\":{\"id\":\"fc713302-c969-4770-b5b1-4612d4ca33d4\",\"subtype\":\"Figure\",\"type\":\"Plot\"},\"ticker\":{\"id\":\"f70789ac-226e-41dd-9554-5a0ffd33b6f2\",\"type\":\"BasicTicker\"}},\"id\":\"310a125b-c16a-4996-8f6b-6a0e5347a7f2\",\"type\":\"LinearAxis\"},{\"attributes\":{\"below\":[{\"id\":\"310a125b-c16a-4996-8f6b-6a0e5347a7f2\",\"type\":\"LinearAxis\"}],\"left\":[{\"id\":\"9ec1c9cd-8de4-438d-bbd2-05f4bb9f428f\",\"type\":\"LinearAxis\"}],\"renderers\":[{\"id\":\"310a125b-c16a-4996-8f6b-6a0e5347a7f2\",\"type\":\"LinearAxis\"},{\"id\":\"b85f7153-4fc6-47fc-b25d-53b43d2003ae\",\"type\":\"Grid\"},{\"id\":\"9ec1c9cd-8de4-438d-bbd2-05f4bb9f428f\",\"type\":\"LinearAxis\"},{\"id\":\"04bad629-cdcc-4291-aa11-7ec944db6693\",\"type\":\"Grid\"},{\"id\":\"f2d06f9b-f065-4701-b88e-ce201054d0e3\",\"type\":\"GlyphRenderer\"}],\"title\":{\"id\":\"0cb578a5-6678-4f71-bb73-4d9ca8d7bb44\",\"type\":\"Title\"},\"tool_events\":{\"id\":\"cf09477c-a33f-483d-a719-f2de0de3b8c2\",\"type\":\"ToolEvents\"},\"toolbar\":{\"id\":\"7043020e-a643-4067-ab66-544de9a4d104\",\"type\":\"Toolbar\"},\"toolbar_location\":\"above\",\"x_range\":{\"id\":\"cfbe8fa2-e5d9-42c0-89cb-f6f32ffd1ce1\",\"type\":\"DataRange1d\"},\"y_range\":{\"id\":\"d57ebafd-630e-4662-a943-8079f44500bc\",\"type\":\"DataRange1d\"}},\"id\":\"fc713302-c969-4770-b5b1-4612d4ca33d4\",\"subtype\":\"Figure\",\"type\":\"Plot\"},{\"attributes\":{},\"id\":\"f70789ac-226e-41dd-9554-5a0ffd33b6f2\",\"type\":\"BasicTicker\"},{\"attributes\":{\"callback\":null},\"id\":\"cfbe8fa2-e5d9-42c0-89cb-f6f32ffd1ce1\",\"type\":\"DataRange1d\"},{\"attributes\":{\"data_source\":{\"id\":\"bd15a5d6-59a3-464d-ad01-e44145fbbd0b\",\"type\":\"ColumnDataSource\"},\"glyph\":{\"id\":\"ad40a4c0-af9e-4e21-bcfa-72a92ce2ff88\",\"type\":\"Quad\"},\"hover_glyph\":null,\"nonselection_glyph\":{\"id\":\"92da3bd8-27bb-4876-87da-b6847580922c\",\"type\":\"Quad\"},\"selection_glyph\":null},\"id\":\"f2d06f9b-f065-4701-b88e-ce201054d0e3\",\"type\":\"GlyphRenderer\"},{\"attributes\":{\"plot\":{\"id\":\"fc713302-c969-4770-b5b1-4612d4ca33d4\",\"subtype\":\"Figure\",\"type\":\"Plot\"},\"ticker\":{\"id\":\"f70789ac-226e-41dd-9554-5a0ffd33b6f2\",\"type\":\"BasicTicker\"}},\"id\":\"b85f7153-4fc6-47fc-b25d-53b43d2003ae\",\"type\":\"Grid\"},{\"attributes\":{\"bottom\":{\"value\":0},\"fill_alpha\":{\"value\":0.1},\"fill_color\":{\"value\":\"#1f77b4\"},\"left\":{\"field\":\"left\"},\"line_alpha\":{\"value\":0.1},\"line_color\":{\"value\":\"#1f77b4\"},\"right\":{\"field\":\"right\"},\"top\":{\"field\":\"top\"}},\"id\":\"92da3bd8-27bb-4876-87da-b6847580922c\",\"type\":\"Quad\"},{\"attributes\":{},\"id\":\"e92b0cb7-52ff-4b18-b55e-257e674394cf\",\"type\":\"BasicTicker\"},{\"attributes\":{},\"id\":\"cfd1e955-6c19-4b3d-bb9a-8912836988d0\",\"type\":\"BasicTickFormatter\"},{\"attributes\":{\"plot\":{\"id\":\"fc713302-c969-4770-b5b1-4612d4ca33d4\",\"subtype\":\"Figure\",\"type\":\"Plot\"}},\"id\":\"f5bd0ac6-6c5a-4dff-9c5d-987050243da3\",\"type\":\"ResetTool\"},{\"attributes\":{},\"id\":\"cf09477c-a33f-483d-a719-f2de0de3b8c2\",\"type\":\"ToolEvents\"}],\"root_ids\":[\"fc713302-c969-4770-b5b1-4612d4ca33d4\"]},\"title\":\"Bokeh Application\",\"version\":\"0.12.4\"}};\n",
       "            var render_items = [{\"docid\":\"90e2d7a3-2be4-4889-98ac-409188eb1a8a\",\"elementid\":\"efd6f1fb-830b-4595-b9d9-b028bf3950d9\",\"modelid\":\"fc713302-c969-4770-b5b1-4612d4ca33d4\"}];\n",
       "            \n",
       "            Bokeh.embed.embed_items(docs_json, render_items);\n",
       "          };\n",
       "          if (document.readyState != \"loading\") fn();\n",
       "          else document.addEventListener(\"DOMContentLoaded\", fn);\n",
       "        })();\n",
       "      },\n",
       "      function(Bokeh) {\n",
       "      }\n",
       "    ];\n",
       "  \n",
       "    function run_inline_js() {\n",
       "      \n",
       "      if ((window.Bokeh !== undefined) || (force === true)) {\n",
       "        for (var i = 0; i < inline_js.length; i++) {\n",
       "          inline_js[i](window.Bokeh);\n",
       "        }if (force === true) {\n",
       "          display_loaded();\n",
       "        }} else if (Date.now() < window._bokeh_timeout) {\n",
       "        setTimeout(run_inline_js, 100);\n",
       "      } else if (!window._bokeh_failed_load) {\n",
       "        console.log(\"Bokeh: BokehJS failed to load within specified timeout.\");\n",
       "        window._bokeh_failed_load = true;\n",
       "      } else if (force !== true) {\n",
       "        var cell = $(document.getElementById(\"efd6f1fb-830b-4595-b9d9-b028bf3950d9\")).parents('.cell').data().cell;\n",
       "        cell.output_area.append_execute_result(NB_LOAD_WARNING)\n",
       "      }\n",
       "  \n",
       "    }\n",
       "  \n",
       "    if (window._bokeh_is_loading === 0) {\n",
       "      console.log(\"Bokeh: BokehJS loaded, going straight to plotting\");\n",
       "      run_inline_js();\n",
       "    } else {\n",
       "      load_libs(js_urls, function() {\n",
       "        console.log(\"Bokeh: BokehJS plotting callback run at\", now());\n",
       "        run_inline_js();\n",
       "      });\n",
       "    }\n",
       "  }(this));\n",
       "</script>"
      ]
     },
     "metadata": {},
     "output_type": "display_data"
    }
   ],
   "source": [
    "frequency_frequency = Counter()\n",
    "\n",
    "for word, cnt in total_counts.most_common():\n",
    "    frequency_frequency[cnt] += 1\n",
    "hist, edges = np.histogram(list(map(lambda x:x[1],frequency_frequency.most_common())), density=True, bins=100, normed=True)\n",
    "\n",
    "p = figure(tools=\"pan,wheel_zoom,reset,save\",\n",
    "           toolbar_location=\"above\",\n",
    "           title=\"The Zipf frequency distribution of the Twitter word corpus\")\n",
    "p.quad(top=hist, bottom=0, left=edges[:-1], right=edges[1:], line_color=\"#555555\")\n",
    "show(p)    "
   ]
  },
  {
   "cell_type": "markdown",
   "metadata": {},
   "source": [
    "### Delete variables to Save Memory"
   ]
  },
  {
   "cell_type": "code",
   "execution_count": 16,
   "metadata": {
    "collapsed": false
   },
   "outputs": [],
   "source": [
    "del pos_neg_ratios, total_counts, positive_counts, negative_counts\n",
    "del train_pos, train_neg, test_pos, test_neg\n",
    "del train_pos_clean,train_neg_clean, test_pos_clean, test_neg_clean\n",
    "del p"
   ]
  },
  {
   "cell_type": "markdown",
   "metadata": {},
   "source": [
    "## Method 1: Generate Feature Vectors using Natural Language Processing Techniques (Bag of Words Model) \n",
    "Having successfully extracted the data set, we have to convert the text or words into a numerical form before passing it on the machine learning model. In this method, \n",
    "\n",
    "- We use Bag of words model to represent text as numerical features.  \n",
    "\n",
    "Bag of words model can be simply summarized using the following 2  points:  \n",
    "\n",
    "-  A vocabulary of unique tokens (in this case words) is created from the entire set of documents (in this case reviews or tweets).\n",
    "- Construct a feature vector from each document which maps the words in the document to the integer indices in the vocabulary of unique tokens. \n",
    "- In a document, if a word exists in the vocabulary, a numerical value of 1 is inserted into the vector at the same index where the word is present in the vocabulary. Elsewhere, 0 is inserted.\n",
    "- Image below gives a very basic understanding of how a bag of words model is constructed.\n",
    "\n",
    "Since the unique words in each document represent only a small subset of all the words in the Bag-Of_words Vocabulary, the feature vectors will mostly contain zeros, which is why we call these vectors **Sparse**.\n",
    "\n",
    "*Reference: Python Machine Learning by Sebastian Raschka* \n",
    "\n",
    "<img src=\"Bag_of_words.jpg\">\n",
    "\n",
    "- "
   ]
  },
  {
   "cell_type": "markdown",
   "metadata": {},
   "source": [
    "### Contruct Feature Vectors (By Strategically Reducing Noise in the data)\n",
    "\n",
    "**Function name: feature_vecs_NLP  **\n",
    "\n",
    "The histogram above above gives us a good indication that Positive/Negative ratio distribution of words follow a Normal Distribution.\n",
    "Using a polarity cut off value, we can trim the distribution by removing words the appear almost equally in both Positive and Negative reviews. This can be controlled by Polarity_cut_off parameter.\n",
    "\n",
    "- The word has to appear for a minimum of n times ( min_count n is passed as input paramter. Optimal count can be achieved after a few trail and errors)\n",
    "- Only the words outside of the polarity cut off range will be added to our Bag of words vocabulary.\n",
    "- Construct binary feature vectors (as explained above) using Bag of Words. This is useful for discrete probabilistic models that model binary events rather than integer counts.\n",
    "- The combination of feature vectors for all reviews will form a sparse matrix.\n"
   ]
  },
  {
   "cell_type": "code",
   "execution_count": 158,
   "metadata": {
    "collapsed": true
   },
   "outputs": [],
   "source": [
    "def feature_vecs_NLP(train_pos, train_neg, test_pos, test_neg, min_count = 10, polarity_cutoff = 0.1):\n",
    "    \"\"\"\n",
    "    Returns the feature vectors for all text in the train and test datasets.\n",
    "    \"\"\"\n",
    "    print(\"Removing Stop words\")\n",
    "    train_pos_clean,train_neg_clean, test_pos_clean, test_neg_clean  = remove_stopwords(train_pos, train_neg, test_pos, test_neg)\n",
    "    print(\"Gathering feature vectors. Using Minimum Word Count %f and Polarity Cut off %f\" % (min_count,polarity_cutoff))\n",
    "    total_counts,positive_counts, negative_counts, pos_neg_ratios = pre_process_data(train_pos_clean,train_neg_clean)\n",
    "    \n",
    "   \n",
    "    all_words = set()\n",
    "    for word_list in (train_pos_clean + train_neg_clean):\n",
    "        for word in word_list:\n",
    "            if(total_counts[word] > min_count):\n",
    "                if(word in pos_neg_ratios.keys()):\n",
    "                    if((pos_neg_ratios[word] >= polarity_cutoff) or (pos_neg_ratios[word] <= -polarity_cutoff)):\n",
    "                        all_words.add(word)\n",
    "                else:\n",
    "                    all_words.add(word)\n",
    "            \n",
    "            \n",
    "    all_words = list(all_words)\n",
    "    print(\"Vocabulary Size (Unique Word List): %f\" %(len(all_words)))\n",
    "    word_index = {}\n",
    "    for i, word in enumerate(all_words):\n",
    "        word_index[word] = i   \n",
    "       \n",
    "    # Using the above words as features, construct binary vectors for each text in the training and test set.\n",
    "    # These should be python lists containing 0 and 1 integers.\n",
    "    \n",
    "    train_pos_vec = np.zeros((len(train_pos_clean), len(all_words)))\n",
    "    train_neg_vec = np.zeros((len(train_neg_clean), len(all_words)))\n",
    "    \n",
    "    test_pos_vec = np.zeros((len(test_pos_clean), len(all_words)))\n",
    "    test_neg_vec = np.zeros((len(test_neg_clean), len(all_words)))\n",
    "    \n",
    "    for idx in range(len(train_pos_clean)):\n",
    "        indexes = set([word_index[word] if word in word_index.keys() else None for word in train_pos_clean[idx]])   \n",
    "        indexes = [idx for idx in indexes if idx != None]\n",
    "        for index, replacement in zip(indexes, [1] * len(indexes)):\n",
    "            train_pos_vec[idx][index] = replacement\n",
    "    \n",
    "    for idx in range(len(train_neg_clean)):\n",
    "        indexes = set([word_index[word] if word in word_index.keys() else None for word in train_neg_clean[idx]])  \n",
    "        indexes = [idx for idx in indexes if idx != None]\n",
    "        for index, replacement in zip(indexes, [1] * len(indexes)):\n",
    "            train_neg_vec[idx][index] = replacement\n",
    "                          \n",
    "    for idx in range(len(test_pos_clean)):\n",
    "        indexes = set([word_index[word] if word in word_index.keys() else None for word in test_pos_clean[idx]]) \n",
    "        indexes = [idx for idx in indexes if idx != None]\n",
    "        for index, replacement in zip(indexes, [1] * len(indexes)):\n",
    "            test_pos_vec[idx][index] = replacement \n",
    "    \n",
    "    for idx in range(len(test_neg_clean)):\n",
    "        indexes = set([word_index[word] if word in word_index.keys() else None for word in test_neg_clean[idx]])                 \n",
    "        indexes = [idx for idx in indexes if idx != None]\n",
    "        for index, replacement in zip(indexes, [1] * len(indexes)):\n",
    "            test_neg_vec[idx][index] = replacement     \n",
    "        \n",
    "    \n",
    "    # Convert the feature vectors to weights using TF-IDF transformer\n",
    "    #tfidf= TfidfTransformer(norm='l2')\n",
    "    #train_vec = np.concatenate((train_pos_vec,train_neg_vec),axis=0)   \n",
    "    #test_vec = np.concatenate((test_pos_vec,test_neg_vec),axis=0)   \n",
    "    \n",
    "    #train_vec = tfidf.fit_transform(train_vec)\n",
    "    #test_vec = tfidf.fit_transform(test_vec)\n",
    "    \n",
    "\n",
    "    # Return the four feature vectors\n",
    "    #return train_vec.toarray(), test_vec.toarray()\n",
    "    return train_pos_vec, train_neg_vec, test_pos_vec, test_neg_vec\n"
   ]
  },
  {
   "cell_type": "markdown",
   "metadata": {},
   "source": [
    "### Classifying Sentiments (Fit the Model)\n",
    "\n",
    "**Function name: build_models_NLP** \n",
    "\n",
    "Finally, we fit following Machine Learning models to classify Reviews/Tweets using the Bag-of Words as feature vectors created using the previous steps.  \n",
    "\n",
    "**Bernoulli Naive Bayes Model**  \n",
    "\n",
    "BernoulliNB implements the naive Bayes training and classification algorithms for data that is distributed according to multivariate Bernoulli distributions; i.e., there may be multiple features but each one is assumed to be a binary-valued (Bernoulli, boolean) variable. Therefore, this class requires samples to be represented as binary-valued feature vectors; if handed any other kind of data, a BernoulliNB instance may binarize its input (depending on the binarize parameter).  \n",
    "\n",
    "The decision rule for Bernoulli naive Bayes is based on\n",
    "<img src=\"Bernoulli_NB.jpg\">  \n",
    "\n",
    "which differs from multinomial NB’s rule in that it explicitly penalizes the non-occurrence of a feature that is an indicator for class y, where the multinomial variant would simply ignore a non-occurring feature.  \n",
    "\n",
    "In the case of text classification, word occurrence vectors (rather than word count vectors) may be used to train and use this classifier. BernoulliNB might perform better on some datasets, especially those with shorter documents. It is advisable to evaluate both models, if time permits.\n",
    "\n",
    "[Read More on Bernoulli Naive Bayes Model](http://scikit-learn.org/stable/modules/naive_bayes.html)  \n",
    "\n",
    "**Stochastic Gradient Descent Logistic Regresson Model**\n",
    "This is a Linear classifier (SVM, logistic regression, a.o.) with Stochastic Gradient Descent training.\n",
    "This estimator implements regularized linear models with stochastic gradient descent (SGD) learning: the gradient of the loss is estimated for each sample at a time and the model is updated along the way with a decreasing strength schedule (aka learning rate).  \n",
    "\n",
    "SGD allows minibatch (online/out-of-core) learning, see the partial_fit method. For best results using the default learning rate schedule, the data should have zero mean and unit variance.\n",
    "\n",
    "This fit accepts loss as input paramter. The default parameter **hinge** fits SVM, **loss = log** fits Logistic Regression.  \n",
    "[Read More on SGDC Classifier](http://scikit-learn.org/stable/modules/generated/sklearn.linear_model.SGDClassifier.html)\n"
   ]
  },
  {
   "cell_type": "code",
   "execution_count": 159,
   "metadata": {
    "collapsed": true
   },
   "outputs": [],
   "source": [
    "def build_models_NLP(train_pos_vec, train_neg_vec):\n",
    "    \"\"\"\n",
    "    Returns a BernoulliNB and LosticRegression Model that are fit to the training data.\n",
    "    \"\"\"\n",
    "    X = np.concatenate((train_pos_vec,train_neg_vec),axis =0)\n",
    "    Y = np.array([\"POSITIVE\"]*len(train_pos_vec) + [\"NEGATIVE\"]*len(train_neg_vec))\n",
    "    \n",
    "    # Check is Features and Labels are of Same size\n",
    "    assert(len(X) == len(Y))\n",
    "    print(\"Training Naive Bayes\")\n",
    "    \n",
    "    nb_model = NB.BernoulliNB(alpha = 1.0, binarize = None)\n",
    "    nb_model.fit(X , Y)\n",
    "    \n",
    "    \n",
    "    print(\"Training Logistic Regression\")\n",
    "\n",
    "    # For LogisticRegression, pass loss paramter as log    \n",
    "    lr_model = LR.SGDClassifier(loss = \"log\", penalty='l1')\n",
    "    lr_model.fit(X , Y)\n",
    "    \n",
    "    print (\"Training Complete\")\n",
    "    \n",
    "    return nb_model, lr_model\n"
   ]
  },
  {
   "cell_type": "markdown",
   "metadata": {},
   "source": [
    "### Evaluate the Model\n",
    "Once the model is fit using the training data, evaluate its performance on Unseen Test data set and print the Accuracy details and [Confusion matrix](http://scikit-learn.org/stable/auto_examples/model_selection/plot_confusion_matrix.html).  \n",
    "\n",
    "Code to plot Graphical Confusion Matrix was taken from SCKIT-LEARN's link (Hyperlinked above)"
   ]
  },
  {
   "cell_type": "code",
   "execution_count": 160,
   "metadata": {
    "collapsed": false
   },
   "outputs": [],
   "source": [
    "def evaluate_model(model, test_pos_vec, test_neg_vec, print_confusion=False, model_type = None, NN_predictions = None):\n",
    "    \"\"\"\n",
    "    Prints the confusion matrix and accuracy of the model.\n",
    "    \"\"\"\n",
    "    def plot_confusion_matrix(cm, text, classes,\n",
    "                          normalize=False,\n",
    "                          title='Confusion matrix',\n",
    "                          cmap=plt.cm.Blues\n",
    "                          ):\n",
    "        \"\"\"\n",
    "        This function prints and plots the confusion matrix.\n",
    "        Normalization can be applied by setting `normalize=True`.\n",
    "        \"\"\"\n",
    "        plt.imshow(cm, interpolation='nearest', cmap=cmap)\n",
    "        plt.title(title)\n",
    "        plt.colorbar()\n",
    "        tick_marks = np.arange(len(classes))\n",
    "        plt.xticks(tick_marks, classes, rotation=45)\n",
    "        plt.yticks(tick_marks, classes)\n",
    "        \n",
    "           \n",
    "        if normalize:\n",
    "            cm = cm.astype('float') / cm.sum(axis=1)[:, np.newaxis]            \n",
    "        \n",
    "        thresh = cm.max() / 2.\n",
    "        for i, j in itertools.product(range(cm.shape[0]), range(cm.shape[1])):\n",
    "            plt.text(j, i, cm[i, j],horizontalalignment=\"center\",color=\"white\" if cm[i, j] > thresh else \"black\")\n",
    "\n",
    "        plt.tight_layout()\n",
    "        plt.title(text)\n",
    "        plt.ylabel('True label')\n",
    "        plt.xlabel('Predicted label')\n",
    "        plt.show()\n",
    "            \n",
    "    \n",
    "        # Use the predict function and calculate the true/false positives and true/false negative.\n",
    "    if (model_type in ('LR','NB')):\n",
    "        test_X = np.concatenate((test_pos_vec,test_neg_vec),axis =0)\n",
    "        test_Y = np.array([\"POSITIVE\"]*len(test_pos_vec) + [\"NEGATIVE\"]*len(test_neg_vec))\n",
    "        results = model.predict(test_X)\n",
    "        cmatrix = confusion_matrix(test_Y, results)\n",
    "    elif (model_type =='NN'):\n",
    "        test_Y = np.array([\"POSITIVE\"]*len(test_pos_vec) + [\"NEGATIVE\"]*len(test_neg_vec))\n",
    "        cmatrix = confusion_matrix(test_Y, NN_predictions)\n",
    "        results = NN_predictions\n",
    "        \n",
    "   \n",
    "    accuracy = (cmatrix[0][0] + cmatrix[1][1])/len(results)\n",
    "    precision = cmatrix[0][0] / (cmatrix[0][0] + cmatrix[1][0])\n",
    "    recall = cmatrix[0][0] / (cmatrix[0][0] + cmatrix[0][1])\n",
    "    sensitivity = recall\n",
    "    specificity = cmatrix[1][1] / (cmatrix[1][1] + cmatrix[1][0])\n",
    "    \n",
    "    if (model_type == 'NB'):\n",
    "        text = 'Naive Bayes'\n",
    "    elif (model_type == 'LR'):\n",
    "        text = 'Logistic Regression'\n",
    "    elif (model_type == 'NN'):\n",
    "        text = 'Neural Network'\n",
    "    \n",
    "    if print_confusion:\n",
    "        plt.figure()\n",
    "        plot_confusion_matrix(cmatrix, text, classes=np.array(['POSITIVE','NEGATIVE']),title='Confusion matrix')\n",
    "        \n",
    "    print (text + \" Accuracy: %f\" % (accuracy))\n",
    "    print (text + \" Precision: %f\" % (precision))\n",
    "    print (text + \" Recall: %f\" % (recall))\n",
    "    print (text + \" Sensitivity: %f\" % (sensitivity))\n",
    "    print (text + \" Specificity: %f\" % (specificity))"
   ]
  },
  {
   "cell_type": "markdown",
   "metadata": {},
   "source": [
    "### Train and Evaluate Models on IMDB Data Sets\n",
    "Now that we have all our functions ready to Read, Clean and Create Feature vectors, let's create a main function to wrap them in sequence: \n",
    "\n",
    "**Note: This main function will later be used also to classify feature vectors generated using Doc2Vec**\n",
    "\n",
    "1. Method parameter determines the techqniue that'll be used to create feature vectors (LOV's nlp, d2v).\n",
    "2. input_type parameter for IMDB vs Twitter data sets.\n",
    "3. Call load_data function to load data from directory.\n",
    "4. If method is nlp  \n",
    "    a. Call feature_vecs_NLP to remove stop words, reduce noise in the text corpus and create binary feature vectors using Bag-Of-Words.  \n",
    "    b. Call build_models_NLP to fit and train the feature vectors using Bernoulli Naive Bayes and Logistic regression models\n",
    "5. If method is d2v  \n",
    "    a. Call feature_vecs_DOC to Labelize documents, build the vocabulary using Doc2Vec and train the model to generate feature vectors  \n",
    "    b. Call build_models_DOC to fit and train the feature vectors using Gaussian Naive Bayes ,Logistic regression and feed forward Neural Network models  \n",
    "6. Call evaluate_model to evaluate the model and get the accuracy details. Finally print the Confusion Matrix"
   ]
  },
  {
   "cell_type": "code",
   "execution_count": 161,
   "metadata": {
    "collapsed": false
   },
   "outputs": [],
   "source": [
    "# Note : If this throws an error, scroll down and create feature_vecs_DOC, build_models_NLP and build_models_Neuralnet\n",
    "#functions and re-execute this\n",
    "def main(method, input_type, min_word_count = None, polarity_cutoff = None):\n",
    "    \n",
    "    if method == \"nlp\":\n",
    "        train_pos, train_neg, test_pos, test_neg = load_data(input_type, method)\n",
    "        train_pos_vec, train_neg_vec, test_pos_vec, test_neg_vec = feature_vecs_NLP (train_pos, train_neg, test_pos, test_neg, min_word_count, polarity_cutoff)\n",
    "        nb_model, lr_model = build_models_NLP(train_pos_vec, train_neg_vec)\n",
    "    elif method == \"d2v\":\n",
    "        train_pos, train_neg, test_pos, test_neg = load_data(input_type, method)\n",
    "        model, train_pos_vec, train_neg_vec, test_pos_vec, test_neg_vec = feature_vecs_DOC (train_pos, train_neg, test_pos, test_neg)\n",
    "        nb_model, lr_model, test_predictions = build_models_DOC(train_pos_vec, train_neg_vec, test_pos_vec, test_neg_vec)\n",
    "    \n",
    "    print ('\\033[1m' + 'Evaluate Naive Bayes Model')\n",
    "    print (\"-----------\")\n",
    "    evaluate_model(nb_model, test_pos_vec, test_neg_vec, True, model_type = 'NB')\n",
    "    print (\"\")\n",
    "    print ('\\033[1m' + 'Evaluate Logistic Regression Model')\n",
    "    print (\"-------------------\")\n",
    "    evaluate_model(lr_model, test_pos_vec, test_neg_vec, True, model_type = 'LR')\n",
    "    \n",
    "    if method == \"d2v\":\n",
    "        print (\"\")\n",
    "        print ('\\033[1m' + \"4 Layer Feed forward Neural Network model for Doc2Vec\")\n",
    "        print (\"-------------------\")\n",
    "        evaluate_model(None, test_pos_vec, test_neg_vec, True, 'NN', test_predictions)"
   ]
  },
  {
   "cell_type": "code",
   "execution_count": 162,
   "metadata": {
    "collapsed": false
   },
   "outputs": [
    {
     "name": "stdout",
     "output_type": "stream",
     "text": [
      "Reading imdb Data Set\n"
     ]
    },
    {
     "name": "stderr",
     "output_type": "stream",
     "text": [
      "0% [##############################] 100% | ETA: 00:00:00\n",
      "Total time elapsed: 00:00:03\n",
      "0% [##############################] 100% | ETA: 00:00:00\n",
      "Total time elapsed: 00:00:03\n",
      "0% [##############################] 100% | ETA: 00:00:00\n",
      "Total time elapsed: 00:00:03\n",
      "0% [##############################] 100% | ETA: 00:00:00\n",
      "Total time elapsed: 00:00:03\n"
     ]
    },
    {
     "name": "stdout",
     "output_type": "stream",
     "text": [
      "Removing Stop words\n",
      "Gathering feature vectors. Using Minimum Word Count 30.000000 and Polarity Cut off 0.400000\n",
      "Vocabulary Size (Unique Word List): 6072.000000\n",
      "Training Naive Bayes\n",
      "Training Logistic Regression\n",
      "Training Complete\n",
      "\u001b[1mEvaluate Naive Bayes Model\n",
      "-----------\n"
     ]
    },
    {
     "data": {
      "image/png": "[encoded data removed]",
      "text/plain": [
       "<matplotlib.figure.Figure at 0x202e134d588>"
      ]
     },
     "metadata": {},
     "output_type": "display_data"
    },
    {
     "name": "stdout",
     "output_type": "stream",
     "text": [
      "Naive Bayes Accuracy: 0.841280\n",
      "Naive Bayes Precision: 0.815486\n",
      "Naive Bayes Recall: 0.882160\n",
      "Naive Bayes Sensitivity: 0.882160\n",
      "Naive Bayes Specificity: 0.800400\n",
      "\n",
      "\u001b[1mEvaluate Logistic Regression Model\n",
      "-------------------\n"
     ]
    },
    {
     "data": {
      "image/png": "[encoded data removed]",
      "text/plain": [
       "<matplotlib.figure.Figure at 0x20220b5b5c0>"
      ]
     },
     "metadata": {},
     "output_type": "display_data"
    },
    {
     "name": "stdout",
     "output_type": "stream",
     "text": [
      "Logistic Regression Accuracy: 0.835120\n",
      "Logistic Regression Precision: 0.826857\n",
      "Logistic Regression Recall: 0.847760\n",
      "Logistic Regression Sensitivity: 0.847760\n",
      "Logistic Regression Specificity: 0.822480\n"
     ]
    }
   ],
   "source": [
    "main(method =\"nlp\", input_type = \"imdb\", min_word_count = 30, polarity_cutoff = 0.4)"
   ]
  },
  {
   "cell_type": "markdown",
   "metadata": {},
   "source": [
    "### Interpreting the Results\n",
    "\n",
    "1. **Accuracy**: Overall Accuracy of the model. This is equal to (Number of Reviews correctly classified) / Total Reviews.\n",
    "2. **Precision**: The fraction of predicted Positive reviews that are actually Positive. Ideal case would be 100%\n",
    "3. **Recall or Sensitivity which is True positive rate**: Fraction of Positive reviews that are correctly identified.  \n",
    "    a. We would want Recall to be high, because if a Positive review is misclassified as Negative, it would not reflect the            true quality of the movie. People would miss out on a good movie if it is misclassified as Negative. We can                      compromise a little on accuracy and be prepared to put up with a relatively high false positive rate in order to get a          high true positive rate,  it is most important to identify possible movies which are give NEGATIVE rating when they are          actually POSITIVE. \n",
    "4. **Specificity which True negative rate**: Fraction of negative class identified correctly.\n",
    "     \n",
    "         "
   ]
  },
  {
   "cell_type": "markdown",
   "metadata": {},
   "source": [
    "### Train and Evaluate Models on Twitter Data Sets"
   ]
  },
  {
   "cell_type": "code",
   "execution_count": 163,
   "metadata": {
    "collapsed": false
   },
   "outputs": [
    {
     "name": "stdout",
     "output_type": "stream",
     "text": [
      "Reading twitter Data Set\n"
     ]
    },
    {
     "name": "stderr",
     "output_type": "stream",
     "text": [
      "0% [##############################] 100% | ETA: 00:00:00\n",
      "Total time elapsed: 00:00:08\n",
      "\n",
      "Total time elapsed: 00:00:08\n",
      "\n",
      "Total time elapsed: 00:00:08\n",
      "\n",
      "Total time elapsed: 00:00:08\n",
      "0% [##############################] 100% | ETA: 00:00:00\n",
      "Total time elapsed: 00:00:08\n",
      "\n",
      "Total time elapsed: 00:00:08\n",
      "\n",
      "Total time elapsed: 00:00:08\n",
      "\n",
      "Total time elapsed: 00:00:08\n",
      "\n",
      "Total time elapsed: 00:00:08\n",
      "0% [##############################] 100% | ETA: 00:00:00\n",
      "Total time elapsed: 00:00:02\n",
      "0% [##############################] 100% | ETA: 00:00:00\n",
      "Total time elapsed: 00:00:01\n"
     ]
    },
    {
     "name": "stdout",
     "output_type": "stream",
     "text": [
      "Removing Stop words\n",
      "Gathering feature vectors. Using Minimum Word Count 75.000000 and Polarity Cut off 0.400000\n",
      "Vocabulary Size (Unique Word List): 2461.000000\n",
      "Training Naive Bayes\n",
      "Training Logistic Regression\n",
      "Training Complete\n",
      "\u001b[1mEvaluate Naive Bayes Model\n",
      "-----------\n"
     ]
    },
    {
     "data": {
      "image/png": "[encoded data removed]",
      "text/plain": [
       "<matplotlib.figure.Figure at 0x2021cc22c18>"
      ]
     },
     "metadata": {},
     "output_type": "display_data"
    },
    {
     "name": "stdout",
     "output_type": "stream",
     "text": [
      "Naive Bayes Accuracy: 0.708260\n",
      "Naive Bayes Precision: 0.758811\n",
      "Naive Bayes Recall: 0.610600\n",
      "Naive Bayes Sensitivity: 0.610600\n",
      "Naive Bayes Specificity: 0.805920\n",
      "\n",
      "\u001b[1mEvaluate Logistic Regression Model\n",
      "-------------------\n"
     ]
    },
    {
     "data": {
      "image/png": "[encoded data removed]",
      "text/plain": [
       "<matplotlib.figure.Figure at 0x20220b5b3c8>"
      ]
     },
     "metadata": {},
     "output_type": "display_data"
    },
    {
     "name": "stdout",
     "output_type": "stream",
     "text": [
      "Logistic Regression Accuracy: 0.689360\n",
      "Logistic Regression Precision: 0.768023\n",
      "Logistic Regression Recall: 0.542613\n",
      "Logistic Regression Sensitivity: 0.542613\n",
      "Logistic Regression Specificity: 0.836107\n"
     ]
    }
   ],
   "source": [
    "main(method =\"nlp\", input_type = \"twitter\", min_word_count = 75, polarity_cutoff = 0.4)"
   ]
  },
  {
   "cell_type": "markdown",
   "metadata": {},
   "source": [
    "### Interpreting Results\n",
    "After trying with different minimum word counts and polarity cut off values, the above metrics is the best we could achieve. As you can see the model did not perform well with accuracy rates not exceeding 70%.  \n",
    "\n",
    "Also, the recall is Worse at only ~61% for Naive Bayes and ~54% for logistic regression."
   ]
  },
  {
   "cell_type": "markdown",
   "metadata": {
    "collapsed": true
   },
   "source": [
    "## Method 2: Generate Feature Vectors using Doc2Vec\n",
    "Doc2vec was introduced by Le & Mikolov in their [ICML’14 paper](http://proceedings.mlr.press/v32/le14.pdf) - “Distributed Representations of Sentences and Documents. Doc2vec modifies the word2vec algorithm to unsupervised learning of continuous representations for larger blocks of text, such as sentences, paragraphs or entire documents.  \n",
    "\n",
    "In order to understand Doc2Vec, it is advisable to understand the popular Word2Vec approach, as former is a straight forward extension of the latter. Word2vec based methods aim to compute vector representations of words (also known as word embeddings).\n",
    "More details on Word2Vec and Doc2Vec can be found on this [Quora Post](https://www.quora.com/How-does-doc2vec-represent-feature-vector-of-a-document-Can-anyone-explain-mathematically-how-the-process-is-done).\n",
    "\n",
    "Doc2Vec can be built using **\"Distributed memory (dm)”** and **“Distributed bag of words (dbow)”** algorithms. It is proven that  the distributed memory model performed noticeably better and this model is set as default when running Doc2Vec. However, we can force the function to run DBOW model using the paramater dm =0.  \n",
    "\n",
    "<img src=\"Doc2Vec.jpg\">  \n",
    "\n",
    "The idea is to concatenate the paragraph vectors (in this case reviews or tweets) with several word vectors from a paragraph and predict the following word in the given context. The paragraph vectors are also asked to contribute to the prediction task of the next word given many contexts sampled from the paragraph. \n",
    "\n",
    "In Paragraph Vector framework (see Figure above), every paragraph is mapped to a unique vector, represented by a column in matrix D and every word is also mapped to a unique vector, represented by a column in matrix W. The paragraph vector and word vectors are averaged or concatenated to predict the next word in a context. [The original paper by Quoc Le and Tomas Mikolov](http://proceedings.mlr.press/v32/le14.pdf) is an excellent read on Doc2Vec."
   ]
  },
  {
   "cell_type": "markdown",
   "metadata": {},
   "source": [
    "### Follow steps below to Contruct Feature Vectors\n",
    "\n",
    "**Function Name: feature_vecs_DOC**  \n",
    "\n",
    "\n",
    "The input to Doc2Vec is an iterator of LabeledSentence objects. Each such object represents a single sentence, and consists of two simple lists: a list of words and a list of labels.\n",
    "\n",
    "### Why Labelize  sentence objects?\n",
    "There is a need to specify that how many number of words or sentences convey a semantic meaning, so that the algorithm could identify it as a single entity. For this reason, we specify labels or tags to a sentence or paragraph depending on the level of semantic meaning conveyed.\n",
    "In simple terms, a label denotes semantic meaning of something.  [Original Link](https://datascience.stackexchange.com/questions/10216/doc2vec-how-to-label-the-paragraphs-gensim)\n",
    "\n",
    "Since, Doc2Vec in purely an unsupervised learning model, label will just be an unique arbitrary number per text example (In this case Reviews or Tweets). It's fine (and indeed memory-optimal in the gensim implementation) to just use contiguous integers starting with 0 as the label IDs.\n",
    "\n",
    "### Instantiate Doc2Vec Object\n",
    "Lets' create an instance of Doc2Vec model using the following parameters:\n",
    "\n",
    "1. **min_count**: Ignore all words with total frequency lower than this. You have to set this to 1, since the sentence labels only appear once. Setting it any higher than 1 will miss out on the sentences.\n",
    "2. **window**: The maximum distance between the current and predicted word within a sentence. \n",
    "3. **size**: Dimensionality of the feature vectors in output. 100 is a good number. If you’re extreme, you can go up to around 400.\n",
    "4. **sample**: Threshold for configuring which higher-frequency words are randomly downsampled.\n",
    "5. **workers**: Use this many worker threads to train the model\n",
    "\n",
    "*Reference: (http://linanqiu.github.io/2015/10/07/word2vec-sentiment/)*\n",
    "\n",
    "### Build the Vocabulary Table\n",
    "Doc2Vec requires us to build the vocabulary table (simply digesting all the words and filtering out the unique words and count them). Vocabulary table is built using **model.build_vocab** which takes an array of Labelized sentences as input.\n",
    "\n",
    "\n",
    "### Training the Model\n",
    "Randomise the sequence of sentences before feeding into the model. This way the model is better trained.\n",
    "\n",
    "\n",
    "### Generate feature Vectors\n",
    "Finally, Use the docvecs function to extract the feature vectors for the training and test data\n",
    "\n"
   ]
  },
  {
   "cell_type": "code",
   "execution_count": 164,
   "metadata": {
    "collapsed": true
   },
   "outputs": [],
   "source": [
    "def feature_vecs_DOC(train_pos, train_neg, test_pos, test_neg):\n",
    "    \"\"\"\n",
    "    Returns the feature vectors for all text in the train and test datasets.\n",
    "    \"\"\"\n",
    "    # Doc2Vec requires LabeledSentence objects as input.\n",
    "    # Turn the datasets from lists of words to lists of LabeledSentence objects.\n",
    "    \n",
    "    #print(\"Removing Stop words\")\n",
    "    #train_pos_clean,train_neg_clean, test_pos_clean, test_neg_clean  = remove_stopwords(train_pos, train_neg, test_pos, test_neg)\n",
    "    \n",
    "    def labelizeReviews(reviews, label_type):\n",
    "        labelized = []\n",
    "        for i,v in enumerate(reviews):\n",
    "            label = '%s_%s'%(label_type,i)            \n",
    "            labelized.append(LabeledSentence(v, [label]))\n",
    "        return labelized\n",
    "    \n",
    " \n",
    "    # Labelize Reviews/ Tweets\n",
    "    labeled_train_pos = labelizeReviews(train_pos, 'TRAIN_POS')\n",
    "    labeled_train_neg = labelizeReviews(train_neg, 'TRAIN_NEG')\n",
    "    labeled_test_pos =  labelizeReviews(test_pos, 'TEST_POS')\n",
    "    labeled_test_neg =  labelizeReviews(test_neg, 'TEST_NEG')\n",
    "\n",
    "    # Initialize model\n",
    "    NUM_WORKERS = multiprocessing.cpu_count()\n",
    "    model = Doc2Vec(min_count=1, alpha =  0.025, min_alpha=0.025, window=10, size=100, sample=1e-4, negative=5, workers=NUM_WORKERS)\n",
    "    sentences = labeled_train_pos + labeled_train_neg + labeled_test_pos + labeled_test_neg\n",
    "    model.build_vocab(sentences)\n",
    "    \n",
    "    train_pos_vec = []\n",
    "    train_neg_vec = []\n",
    "    test_pos_vec = []\n",
    "    test_neg_vec = []\n",
    "    \n",
    "    \n",
    "    # Train the model\n",
    "    # This may take a bit to run \n",
    "    print(\"Training Doc2Vec using Distributed Memory and Negative Sampling\")\n",
    "    for i in range(5):\n",
    "        print (\"Training iteration %d\" % (i))\n",
    "        random.shuffle(sentences)\n",
    "        model.train(sentences, total_examples=model.corpus_count, epochs=model.iter)\n",
    "        model.alpha -= 0.002  # decrease the learning rate\n",
    "        model.min_alpha = model.alpha  # fix the learning rate, no decay\n",
    "        \n",
    "    \n",
    "    print(\"Generating Feature Vectors for Train POSITIVE\")\n",
    "    # Use the docvecs function to extract the feature vectors for the training and test data\n",
    "    for i in range(len(labeled_train_pos)):\n",
    "        inf_vector = model.docvecs[labeled_train_pos[i].tags[0]]\n",
    "        train_pos_vec.append(inf_vector)\n",
    "    train_pos_vec= np.array(train_pos_vec)\n",
    "    \n",
    "            \n",
    "    print(\"Generating Feature Vectors for Train NEGATIVE\")\n",
    "    for i in range(len(labeled_train_neg)):\n",
    "        inf_vector = model.docvecs[labeled_train_neg[i].tags[0]]        \n",
    "        train_neg_vec.append(inf_vector)\n",
    "    train_neg_vec = np.array(train_neg_vec)\n",
    "    \n",
    "            \n",
    "    print(\"Generating Feature Vectors for Test POSITIVE\")\n",
    "    for i in range(len(labeled_test_pos)):\n",
    "        inf_vector = model.docvecs[labeled_test_pos[i].tags[0]]        \n",
    "        test_pos_vec.append(inf_vector)\n",
    "    test_pos_vec = np.array(test_pos_vec)\n",
    "    \n",
    "            \n",
    "    print(\"Generating Feature Vectors for Test NEGATIVE\")\n",
    "    for i in range(len(labeled_test_neg)):\n",
    "        inf_vector = model.docvecs[labeled_test_neg[i].tags[0]]        \n",
    "        test_neg_vec.append(inf_vector)\n",
    "    test_neg_vec = np.array(test_neg_vec)\n",
    "    \n",
    "        \n",
    "    print(\"Done\")    \n",
    "    # Return the four feature vectors\n",
    "    return model, train_pos_vec, train_neg_vec, test_pos_vec, test_neg_vec"
   ]
  },
  {
   "cell_type": "markdown",
   "metadata": {},
   "source": [
    "### Quick Data Validation\n",
    "Let's do a quick data validation on the training feature vectors and understand what we can infer from them."
   ]
  },
  {
   "cell_type": "code",
   "execution_count": 165,
   "metadata": {
    "collapsed": false
   },
   "outputs": [
    {
     "name": "stdout",
     "output_type": "stream",
     "text": [
      "Reading imdb Data Set\n"
     ]
    },
    {
     "name": "stderr",
     "output_type": "stream",
     "text": [
      "0% [##############################] 100% | ETA: 00:00:00\n",
      "Total time elapsed: 00:00:03\n",
      "0% [##############################] 100% | ETA: 00:00:00\n",
      "Total time elapsed: 00:00:02\n",
      "0% [##############################] 100% | ETA: 00:00:00\n",
      "Total time elapsed: 00:00:01\n",
      "0% [##############################] 100% | ETA: 00:00:00\n",
      "Total time elapsed: 00:00:02\n"
     ]
    },
    {
     "name": "stdout",
     "output_type": "stream",
     "text": [
      "Training Doc2Vec using Distributed Memory and Negative Sampling\n",
      "Training iteration 0\n",
      "Training iteration 1\n",
      "Training iteration 2\n",
      "Training iteration 3\n",
      "Training iteration 4\n",
      "Generating Feature Vectors for Train POSITIVE\n",
      "Generating Feature Vectors for Train NEGATIVE\n",
      "Generating Feature Vectors for Test POSITIVE\n",
      "Generating Feature Vectors for Test NEGATIVE\n",
      "Done\n"
     ]
    }
   ],
   "source": [
    "train_pos, train_neg, test_pos, test_neg = load_data('imdb','d2v')\n",
    "model, train_pos_vec, train_neg_vec, test_pos_vec, test_neg_vec = feature_vecs_DOC(train_pos, train_neg, test_pos, test_neg)"
   ]
  },
  {
   "cell_type": "markdown",
   "metadata": {},
   "source": [
    "Print Most similar Reviews to the very Any Positive review in IMDB data set"
   ]
  },
  {
   "cell_type": "code",
   "execution_count": 166,
   "metadata": {
    "collapsed": false
   },
   "outputs": [
    {
     "name": "stdout",
     "output_type": "stream",
     "text": [
      "Positive Review No: 23\n",
      "------------------------------\n",
      "the legendary boris karloff ended his illustrious career making four cheapie fright flick clunkers mexico this the token moody period gothic horror entry from the bunch karloff gives typically spry and dignified performance matthias morteval elderly eccentric patriarch who invites several his petty greedy and backbiting count relatives his creepy rundown castle for the reading will pretty soon the hateful guests are getting bumped off lethal life sized toy people who populate the place onetime mexican sex symbol andres garcia tintorera infamy portrays the dashing police officer hero and julissa looks absolutely ravishing the sole likable female character the clunky plodding non direction trite the numbers script ugly washed out cinematography ridiculous murder set pieces gross fat slob gets blasted right the face miniature cannon overwrought string score morbid gloom doom atmosphere largely lousy acting karloff notably excepted cheesy mild gore poor dubbing and rousing fiery conclusion all lend this enjoyably awful lemon certain endearingly cruddy and hence oddly amusing ratty charm real campy hoot\n",
      "------------------------------\n",
      "Similar Review 1\n",
      "------------------------------\n",
      "often laugh out loud funny play sex family and the classes beverly hills milks more laughs out the zip code than seen since the days granny and jed clampett plot centers two chauffers who bet which one them can bed his employer both single soon single ladies quite sexy bisset and woronov first manuel wins his friend will pay off his debt violent asian street gang loses must play bottom man his friend lots raunchy dialogue fairly sick physical humour etc but lot the comedy just beneath the surface bartel memorable very sensual oder member the family who ends taking his sexy teenaged niece year long missionary trip africa hilarious fun\n",
      "------------------------------\n",
      "Similar Review 2\n",
      "------------------------------\n",
      "not masterpiece like the godfather but doesn have the only purpose this movie has make the viewer laugh several times can make the viewer laugh bunch times has accomplished its purpose laughed out loud and left with smile feel like got money worth\n"
     ]
    }
   ],
   "source": [
    "review_no = 23  # Change the review number as desired\n",
    "infv = model.infer_vector(train_pos[review_no])\n",
    "similar_docs = model.docvecs.most_similar([infv], topn=len(model.docvecs))\n",
    "select_doc = random.randint(0,len(similar_docs))\n",
    "\n",
    "indices = [x.start() for x in re.finditer(\"_\", similar_docs[select_doc][0])]\n",
    "\n",
    "get_index = int(similar_docs[select_doc][0][indices[1]+1:])\n",
    "\n",
    "print(\"Positive Review No: %d\" % review_no)\n",
    "print(\"------------------------------\")\n",
    "print(' '.join(train_pos[review_no]))\n",
    "print(\"------------------------------\")\n",
    "print(\"Similar Review 1\")\n",
    "print(\"------------------------------\")\n",
    "print(' '.join(train_pos[get_index]))\n",
    "\n",
    "select_doc = random.randint(0,len(similar_docs))\n",
    "get_index = int(similar_docs[select_doc][0][indices[1]+1:])\n",
    "print(\"------------------------------\")\n",
    "print(\"Similar Review 2\")\n",
    "print(\"------------------------------\")\n",
    "print(' '.join(train_pos[get_index]))\n",
    "\n"
   ]
  },
  {
   "cell_type": "markdown",
   "metadata": {},
   "source": [
    "Similarly print most simlar words related to any word"
   ]
  },
  {
   "cell_type": "code",
   "execution_count": 167,
   "metadata": {
    "collapsed": false
   },
   "outputs": [
    {
     "data": {
      "text/plain": [
       "[('superb', 0.7798666954040527),\n",
       " ('terrific', 0.7310423851013184),\n",
       " ('outstanding', 0.7275811433792114),\n",
       " ('fine', 0.692394495010376),\n",
       " ('great', 0.687579333782196),\n",
       " ('fantastic', 0.6839812994003296),\n",
       " ('wonderful', 0.6603418588638306),\n",
       " ('solid', 0.6517915725708008),\n",
       " ('exceptional', 0.6311179399490356),\n",
       " ('marvellous', 0.5782872438430786)]"
      ]
     },
     "execution_count": 167,
     "metadata": {},
     "output_type": "execute_result"
    }
   ],
   "source": [
    "model.most_similar('excellent')\n"
   ]
  },
  {
   "cell_type": "code",
   "execution_count": 168,
   "metadata": {
    "collapsed": false
   },
   "outputs": [
    {
     "data": {
      "text/plain": [
       "[('weak', 0.6218351125717163),\n",
       " ('terrible', 0.5875034332275391),\n",
       " ('lousy', 0.5631139278411865),\n",
       " ('dreadful', 0.5564313530921936),\n",
       " ('horrible', 0.5393791198730469),\n",
       " ('pitiful', 0.5376462936401367),\n",
       " ('horrid', 0.5320767164230347),\n",
       " ('lame', 0.5147217512130737),\n",
       " ('awful', 0.5124568343162537),\n",
       " ('bad', 0.5012640357017517)]"
      ]
     },
     "execution_count": 168,
     "metadata": {},
     "output_type": "execute_result"
    }
   ],
   "source": [
    "model.most_similar('poor')"
   ]
  },
  {
   "cell_type": "code",
   "execution_count": 169,
   "metadata": {
    "collapsed": false
   },
   "outputs": [],
   "source": [
    "del train_pos, train_neg, test_pos, test_neg\n",
    "del model, train_pos_vec, train_neg_vec, test_pos_vec, test_neg_vec\n",
    "del infv, similar_docs, select_doc, indices, get_index"
   ]
  },
  {
   "cell_type": "markdown",
   "metadata": {},
   "source": [
    "### Classifying Sentiments  (Fit the Model)\n",
    "\n",
    "**Function Name: build_models_DOC and build_models_Neuralnet**  \n",
    "\n",
    "Feature vectors generate above can be used to classify sentiments of IMDB and Twitter Data sets. We train Gaussian Naive Bayes and Stochastic Gradient Descent Logistic Regression models to predict sentiments on the Test set.  \n",
    "\n",
    "**Gaussian Naive Bayes**\n",
    "GaussianNB implements the Gaussian Naive Bayes algorithm for classification. The likelihood of the features is assumed to be Gaussian:\n",
    "<img src=\"Gaussian_NB.jpg\"> \n",
    "\n",
    "\n",
    "\n",
    "In this project, we will also use a 3 layer feed forward Neural network to train using the feature vectors and predict sentiments. Performance is compared between 3 models\n"
   ]
  },
  {
   "cell_type": "markdown",
   "metadata": {},
   "source": [
    "### Gaussian NB and Logistic Regression"
   ]
  },
  {
   "cell_type": "code",
   "execution_count": 170,
   "metadata": {
    "collapsed": true
   },
   "outputs": [],
   "source": [
    "def build_models_DOC(train_pos_vec, train_neg_vec, test_pos_vec, test_neg_vec):\n",
    "    \"\"\"\n",
    "    Returns a GaussianNB and LosticRegression Model that are fit to the training data.\n",
    "    \"\"\"\n",
    "    X = np.concatenate((train_pos_vec,train_neg_vec),axis =0)\n",
    "    Y = np.array([\"POSITIVE\"]*len(train_pos_vec) + [\"NEGATIVE\"]*len(train_neg_vec))\n",
    "    \n",
    "    assert(len(X) == len(Y))\n",
    "\n",
    "    # Use sklearn's GaussianNB and LogisticRegression functions to fit two models to the training data.\n",
    "    # For LogisticRegression, pass no parameters\n",
    "    print(\"Training Gaussian Naive Bayes\")\n",
    "    nb_model = NB.GaussianNB()\n",
    "    nb_model.fit(X, Y)\n",
    "    \n",
    "    print(\"Training Logistic Regression\")\n",
    "    lr_model = LR.SGDClassifier()\n",
    "    lr_model.fit(X , Y)\n",
    "    \n",
    "    print(\"Training Neural Network using Tensorflow\")\n",
    "    test_predictions = build_models_Neuralnet(train_pos_vec, train_neg_vec, test_pos_vec, test_neg_vec)\n",
    "    \n",
    "    print(\"Training Complete\")\n",
    "    \n",
    "    return nb_model, lr_model, test_predictions"
   ]
  },
  {
   "cell_type": "markdown",
   "metadata": {},
   "source": [
    "### Neural network using Tensorflow"
   ]
  },
  {
   "cell_type": "code",
   "execution_count": 171,
   "metadata": {
    "collapsed": true
   },
   "outputs": [],
   "source": [
    "def build_models_Neuralnet(train_pos_vec, train_neg_vec, test_pos_vec, test_neg_vec):\n",
    "    \n",
    "    def batches(batch_size, features, labels):\n",
    "        n_batches = len(features)//batch_size\n",
    "    \n",
    "    # only full batches    \n",
    "        features = features[:n_batches*batch_size]\n",
    "        for i in range(0, len(features), batch_size):\n",
    "            batch_X = features[i:i + batch_size]\n",
    "            batch_Y = labels[i:i + batch_size]\n",
    "            yield batch_X, batch_Y\n",
    "        \n",
    "    def print_epoch_stats(epoch_i, sess, last_features, last_labels):\n",
    "        \"\"\"\n",
    "        Print cost and validation accuracy of an epoch\n",
    "        \"\"\"\n",
    "        current_cost = sess.run(cost,feed_dict={features: last_features, labels: last_labels})\n",
    "        training_accuracy = sess.run(accuracy,feed_dict={features: last_features, labels: last_labels})\n",
    "        valid_accuracy = sess.run(accuracy,feed_dict={features: valid_features, labels: valid_labels})\n",
    "        print('Epoch: {:<4} - Cost: {:<8.3} Training Accuracy: {:<5.3} Validation Accuracy: {:<5.3}'.format(epoch_i,current_cost, training_accuracy, valid_accuracy))\n",
    "        \n",
    "    def one_hot_encode(x):\n",
    "        \"\"\"\n",
    "        One hot encode a list of sample labels. Return a one-hot encoded vector for each label.\n",
    "        : x: List of sample Labels\n",
    "        : return: Numpy array of one-hot encoded labels\n",
    "        \"\"\"\n",
    "        one_hot_array=[]\n",
    "        for l in x:\n",
    "            holder = np.repeat(0,2)\n",
    "            np.put(holder,l,1)\n",
    "            one_hot_array.append(holder)\n",
    "    \n",
    "        return np.array(one_hot_array)\n",
    "    \n",
    "    def fully_connected(features_tensor, num_outputs, num_inputs = None):\n",
    "        \"\"\"\n",
    "        Apply a fully connected layer to x_tensor using weight and bias\n",
    "        : x_tensor: A 2-D tensor where the first dimension is batch size.\n",
    "        : num_outputs: The number of output that the new tensor should be.\n",
    "        : return: A 2-D tensor where the second dimension is num_outputs.\n",
    "        \"\"\"\n",
    "        if (num_inputs != None):\n",
    "            inputs = num_inputs\n",
    "        else:\n",
    "            inputs = features_tensor.get_shape().as_list()[1]\n",
    "        weights = tf.Variable(tf.truncated_normal([inputs, num_outputs],stddev=0.1))\n",
    "        bias = tf.Variable(tf.truncated_normal([num_outputs],stddev=0.1))        \n",
    "        fc = tf.add(tf.matmul(features_tensor,weights),bias)\n",
    "        fc = tf.nn.sigmoid(fc)\n",
    "        #fc = tf.nn.relu(fc)\n",
    "        #fc = tf.nn.dropout(fc, keep_prob = 0.70)\n",
    "        return fc\n",
    "        \n",
    "    \n",
    "    n_input = 100\n",
    "    n_classes = 2\n",
    "    ip_features = np.concatenate((train_pos_vec,train_neg_vec),axis =0)\n",
    "    ip_labels = np.array([1]*len(train_pos_vec) + [0]*len(train_neg_vec))\n",
    "    \n",
    "    ip_labels = one_hot_encode(ip_labels)\n",
    "    \n",
    "    \n",
    "    train_features, valid_features, train_labels, valid_labels = train_test_split(ip_features, ip_labels, test_size=0.2)\n",
    "\n",
    "    \n",
    "    test_features = np.concatenate((test_pos_vec,test_neg_vec),axis =0)\n",
    "    test_labels = np.array([1]*len(test_pos_vec) + [0]*len(test_neg_vec))\n",
    "    test_labels = one_hot_encode(test_labels)\n",
    "    \n",
    "    # Features and Labels\n",
    "    features = tf.placeholder(tf.float32, [None, n_input])\n",
    "    labels = tf.placeholder(tf.float32, [None, n_classes])\n",
    "    \n",
    "    layer_1 = fully_connected(features, num_outputs = 256, num_inputs = n_input)\n",
    "    layer_2 = fully_connected(layer_1, num_outputs = 512)\n",
    "    logits = fully_connected(layer_2, num_outputs = n_classes)\n",
    "\n",
    "     \n",
    "    # Define loss and optimizer\n",
    "    learning_rate = tf.placeholder(tf.float32)\n",
    "    cost = tf.reduce_mean(tf.nn.softmax_cross_entropy_with_logits(logits=logits, labels=labels))\n",
    "    optimizer = tf.train.AdamOptimizer(learning_rate=learning_rate).minimize(cost)\n",
    "\n",
    "    # Calculate accuracy\n",
    "    correct_prediction = tf.equal(tf.argmax(logits, 1), tf.argmax(labels, 1))\n",
    "    accuracy = tf.reduce_mean(tf.cast(correct_prediction, tf.float32))\n",
    "\n",
    "    init = tf.global_variables_initializer()\n",
    "\n",
    "    batch_size = 128\n",
    "    epochs = 250\n",
    "    learn_rate = 0.001\n",
    "        \n",
    "    with tf.Session() as sess:\n",
    "        sess.run(init)\n",
    "\n",
    "        # Training cycle\n",
    "        print(\"Training 4 layer Feed forward Neural Network classifier over Do2Vec Vectors\")\n",
    "        for epoch_i in range(epochs+1):\n",
    "            train_batches = batches(batch_size, train_features, train_labels)\n",
    "            # Loop over all batches\n",
    "            for batch_features, batch_labels in train_batches:\n",
    "                train_feed_dict = {\n",
    "                        features: batch_features,\n",
    "                        labels: batch_labels,\n",
    "                        learning_rate: learn_rate}\n",
    "                sess.run(optimizer, feed_dict=train_feed_dict)                \n",
    "\n",
    "            # Print cost and validation accuracy for every 10 iterations\n",
    "            if (epoch_i%25 == 0):\n",
    "                print_epoch_stats(epoch_i, sess, batch_features, batch_labels)\n",
    "\n",
    "        # Calculate accuracy for test dataset\n",
    "        test_accuracy = sess.run(\n",
    "                accuracy,\n",
    "                feed_dict={features: test_features, labels: test_labels})\n",
    "        \n",
    "        pred =  logits\n",
    "        test_feed_dict = { features: test_features}\n",
    "        prediction = sess.run(pred,feed_dict = test_feed_dict)\n",
    "        \n",
    "\n",
    "        print('Test Accuracy: {}'.format(test_accuracy))\n",
    "    \n",
    "    \n",
    "    test_predictions = []\n",
    "    for i in range(len(prediction)):\n",
    "        if prediction[i][1] >= 0.5:\n",
    "            test_predictions.append('POSITIVE')\n",
    "        else:\n",
    "            test_predictions.append('NEGATIVE')\n",
    "    test_predictions =np.array(test_predictions)\n",
    "    \n",
    "    return test_predictions\n",
    "    "
   ]
  },
  {
   "cell_type": "markdown",
   "metadata": {},
   "source": [
    "### Train and Evaluate the Model on IMDB Data Sets\n",
    "Let's use the main function we created above (which internally calls feature_vecs_DOC,build_models_DOC and build_models_Neuralnet) functions to train and evaluate Naive Bayes, Logistic Regression and Neural Net Models\n"
   ]
  },
  {
   "cell_type": "code",
   "execution_count": 172,
   "metadata": {
    "collapsed": false
   },
   "outputs": [
    {
     "name": "stdout",
     "output_type": "stream",
     "text": [
      "Reading imdb Data Set\n"
     ]
    },
    {
     "name": "stderr",
     "output_type": "stream",
     "text": [
      "0% [##############################] 100% | ETA: 00:00:00\n",
      "Total time elapsed: 00:00:01\n",
      "0% [##############################] 100% | ETA: 00:00:00\n",
      "Total time elapsed: 00:00:01\n",
      "0% [##############################] 100% | ETA: 00:00:00\n",
      "Total time elapsed: 00:00:01\n",
      "0% [##############################] 100% | ETA: 00:00:00\n",
      "Total time elapsed: 00:00:01\n"
     ]
    },
    {
     "name": "stdout",
     "output_type": "stream",
     "text": [
      "Training Doc2Vec using Distributed Memory and Negative Sampling\n",
      "Training iteration 0\n",
      "Training iteration 1\n",
      "Training iteration 2\n",
      "Training iteration 3\n",
      "Training iteration 4\n",
      "Generating Feature Vectors for Train POSITIVE\n",
      "Generating Feature Vectors for Train NEGATIVE\n",
      "Generating Feature Vectors for Test POSITIVE\n",
      "Generating Feature Vectors for Test NEGATIVE\n",
      "Done\n",
      "Training Gaussian Naive Bayes\n",
      "Training Logistic Regression\n",
      "Training Neural Network using Tensorflow\n",
      "Training 4 layer Feed forward Neural Network classifier over Do2Vec Vectors\n",
      "Epoch: 0    - Cost: 0.44     Training Accuracy: 0.875 Validation Accuracy: 0.856\n",
      "Epoch: 25   - Cost: 0.395    Training Accuracy: 0.914 Validation Accuracy: 0.861\n",
      "Epoch: 50   - Cost: 0.386    Training Accuracy: 0.93  Validation Accuracy: 0.861\n",
      "Epoch: 75   - Cost: 0.384    Training Accuracy: 0.93  Validation Accuracy: 0.859\n",
      "Epoch: 100  - Cost: 0.384    Training Accuracy: 0.93  Validation Accuracy: 0.855\n",
      "Epoch: 125  - Cost: 0.376    Training Accuracy: 0.938 Validation Accuracy: 0.852\n",
      "Epoch: 150  - Cost: 0.376    Training Accuracy: 0.938 Validation Accuracy: 0.856\n",
      "Epoch: 175  - Cost: 0.376    Training Accuracy: 0.938 Validation Accuracy: 0.857\n",
      "Epoch: 200  - Cost: 0.376    Training Accuracy: 0.938 Validation Accuracy: 0.857\n",
      "Epoch: 225  - Cost: 0.376    Training Accuracy: 0.938 Validation Accuracy: 0.857\n",
      "Epoch: 250  - Cost: 0.376    Training Accuracy: 0.938 Validation Accuracy: 0.853\n",
      "Test Accuracy: 0.8515599966049194\n",
      "Training Complete\n",
      "\u001b[1mEvaluate Naive Bayes Model\n",
      "-----------\n"
     ]
    },
    {
     "data": {
      "image/png": "[encoded data removed]",
      "text/plain": [
       "<matplotlib.figure.Figure at 0x2021bd99898>"
      ]
     },
     "metadata": {},
     "output_type": "display_data"
    },
    {
     "name": "stdout",
     "output_type": "stream",
     "text": [
      "Naive Bayes Accuracy: 0.696720\n",
      "Naive Bayes Precision: 0.655731\n",
      "Naive Bayes Recall: 0.828320\n",
      "Naive Bayes Sensitivity: 0.828320\n",
      "Naive Bayes Specificity: 0.565120\n",
      "\n",
      "\u001b[1mEvaluate Logistic Regression Model\n",
      "-------------------\n"
     ]
    },
    {
     "data": {
      "image/png": "[encoded data removed]",
      "text/plain": [
       "<matplotlib.figure.Figure at 0x2021c997e80>"
      ]
     },
     "metadata": {},
     "output_type": "display_data"
    },
    {
     "name": "stdout",
     "output_type": "stream",
     "text": [
      "Logistic Regression Accuracy: 0.801320\n",
      "Logistic Regression Precision: 0.750549\n",
      "Logistic Regression Recall: 0.902640\n",
      "Logistic Regression Sensitivity: 0.902640\n",
      "Logistic Regression Specificity: 0.700000\n",
      "\n",
      "\u001b[1m4 Layer Feed forward Neural Network model for Doc2Vec\n",
      "-------------------\n"
     ]
    },
    {
     "data": {
      "image/png": "[encoded data removed]",
      "text/plain": [
       "<matplotlib.figure.Figure at 0x2021bc273c8>"
      ]
     },
     "metadata": {},
     "output_type": "display_data"
    },
    {
     "name": "stdout",
     "output_type": "stream",
     "text": [
      "Neural Network Accuracy: 0.851560\n",
      "Neural Network Precision: 0.866117\n",
      "Neural Network Recall: 0.831680\n",
      "Neural Network Sensitivity: 0.831680\n",
      "Neural Network Specificity: 0.871440\n"
     ]
    }
   ],
   "source": [
    "main(method =\"d2v\", input_type = \"imdb\")"
   ]
  },
  {
   "cell_type": "markdown",
   "metadata": {},
   "source": [
    "### Interpreting the Results\n",
    "Neural network with 3 layers gave the best accuracy.   \n",
    "\n",
    "For Recall, Logistic regression performed better with 88% compared to 85% for the neural network.\n",
    "If Fraction of Positive reviews that are correctly identified does not matter, go ahead with Neural network model."
   ]
  },
  {
   "cell_type": "markdown",
   "metadata": {},
   "source": [
    "### Train and Evaluate the Model on Twitter Data Sets"
   ]
  },
  {
   "cell_type": "code",
   "execution_count": 173,
   "metadata": {
    "collapsed": false
   },
   "outputs": [
    {
     "name": "stdout",
     "output_type": "stream",
     "text": [
      "Reading twitter Data Set\n"
     ]
    },
    {
     "name": "stderr",
     "output_type": "stream",
     "text": [
      "0% [##############################] 100% | ETA: 00:00:00\n",
      "Total time elapsed: 00:00:05\n",
      "\n",
      "Total time elapsed: 00:00:05\n",
      "\n",
      "Total time elapsed: 00:00:05\n",
      "\n",
      "Total time elapsed: 00:00:05\n",
      "0% [##############################] 100% | ETA: 00:00:00\n",
      "Total time elapsed: 00:00:05\n",
      "\n",
      "Total time elapsed: 00:00:05\n",
      "\n",
      "Total time elapsed: 00:00:05\n",
      "\n",
      "Total time elapsed: 00:00:05\n",
      "\n",
      "Total time elapsed: 00:00:05\n",
      "0% [##############################] 100% | ETA: 00:00:00\n",
      "Total time elapsed: 00:00:00\n",
      "0% [##############################] 100% | ETA: 00:00:00\n",
      "Total time elapsed: 00:00:01\n"
     ]
    },
    {
     "name": "stdout",
     "output_type": "stream",
     "text": [
      "Training Doc2Vec using Distributed Memory and Negative Sampling\n",
      "Training iteration 0\n",
      "Training iteration 1\n",
      "Training iteration 2\n",
      "Training iteration 3\n",
      "Training iteration 4\n",
      "Generating Feature Vectors for Train POSITIVE\n",
      "Generating Feature Vectors for Train NEGATIVE\n",
      "Generating Feature Vectors for Test POSITIVE\n",
      "Generating Feature Vectors for Test NEGATIVE\n",
      "Done\n",
      "Training Gaussian Naive Bayes\n",
      "Training Logistic Regression\n",
      "Training Neural Network using Tensorflow\n",
      "Training 4 layer Feed forward Neural Network classifier over Do2Vec Vectors\n",
      "Epoch: 0    - Cost: 0.537    Training Accuracy: 0.773 Validation Accuracy: 0.686\n",
      "Epoch: 25   - Cost: 0.545    Training Accuracy: 0.75  Validation Accuracy: 0.695\n",
      "Epoch: 50   - Cost: 0.533    Training Accuracy: 0.742 Validation Accuracy: 0.699\n",
      "Epoch: 75   - Cost: 0.52     Training Accuracy: 0.773 Validation Accuracy: 0.696\n",
      "Epoch: 100  - Cost: 0.5      Training Accuracy: 0.797 Validation Accuracy: 0.693\n",
      "Epoch: 125  - Cost: 0.495    Training Accuracy: 0.805 Validation Accuracy: 0.692\n",
      "Epoch: 150  - Cost: 0.488    Training Accuracy: 0.812 Validation Accuracy: 0.693\n",
      "Epoch: 175  - Cost: 0.469    Training Accuracy: 0.828 Validation Accuracy: 0.692\n",
      "Epoch: 200  - Cost: 0.463    Training Accuracy: 0.82  Validation Accuracy: 0.691\n",
      "Epoch: 225  - Cost: 0.458    Training Accuracy: 0.805 Validation Accuracy: 0.689\n",
      "Epoch: 250  - Cost: 0.45     Training Accuracy: 0.812 Validation Accuracy: 0.688\n",
      "Test Accuracy: 0.6737866401672363\n",
      "Training Complete\n",
      "\u001b[1mEvaluate Naive Bayes Model\n",
      "-----------\n"
     ]
    },
    {
     "data": {
      "image/png": "[encoded data removed]",
      "text/plain": [
       "<matplotlib.figure.Figure at 0x20230574cc0>"
      ]
     },
     "metadata": {},
     "output_type": "display_data"
    },
    {
     "name": "stdout",
     "output_type": "stream",
     "text": [
      "Naive Bayes Accuracy: 0.556620\n",
      "Naive Bayes Precision: 0.584738\n",
      "Naive Bayes Recall: 0.390707\n",
      "Naive Bayes Sensitivity: 0.390707\n",
      "Naive Bayes Specificity: 0.722533\n",
      "\n",
      "\u001b[1mEvaluate Logistic Regression Model\n",
      "-------------------\n"
     ]
    },
    {
     "data": {
      "image/png": "[encoded data removed]",
      "text/plain": [
       "<matplotlib.figure.Figure at 0x20230f59a90>"
      ]
     },
     "metadata": {},
     "output_type": "display_data"
    },
    {
     "name": "stdout",
     "output_type": "stream",
     "text": [
      "Logistic Regression Accuracy: 0.666727\n",
      "Logistic Regression Precision: 0.734584\n",
      "Logistic Regression Recall: 0.522093\n",
      "Logistic Regression Sensitivity: 0.522093\n",
      "Logistic Regression Specificity: 0.811360\n",
      "\n",
      "\u001b[1m4 Layer Feed forward Neural Network model for Doc2Vec\n",
      "-------------------\n"
     ]
    },
    {
     "data": {
      "image/png": "[encoded data removed]",
      "text/plain": [
       "<matplotlib.figure.Figure at 0x2021bc89438>"
      ]
     },
     "metadata": {},
     "output_type": "display_data"
    },
    {
     "name": "stdout",
     "output_type": "stream",
     "text": [
      "Neural Network Accuracy: 0.673447\n",
      "Neural Network Precision: 0.682149\n",
      "Neural Network Recall: 0.649560\n",
      "Neural Network Sensitivity: 0.649560\n",
      "Neural Network Specificity: 0.697333\n"
     ]
    }
   ],
   "source": [
    "main(method =\"d2v\", input_type = \"twitter\")\n"
   ]
  },
  {
   "cell_type": "markdown",
   "metadata": {},
   "source": [
    "## Conclusion\n",
    "**IMDB Data Set**  \n",
    "While predicting the Sentiment for the IMDB data set, Doc2Vec did not outperform the traditional Bag-of-Words Model.  \n",
    "In Fact, Using Naive Bayes classification, Bag-of-Words resulted in an accuracy of 84%, wheres Doc2Vec gave only 65%.  \n",
    "\n",
    "Using Logistic Regression with Stochastic Gradient Descent, accuracy hovered over 84% for both the techniques.  \n",
    "\n",
    "We also tried to fit a 3 layer feed forward Neural network using the feature vectors generated by Doc2Vec, and surprisingly the accuracy was almost equal to that of logistic regression. The model did not converge yet. Fine tuning the number of epochs and the learning rate will even take the accuracy above 90%.\n",
    "\n",
    "**Twitter Data Set**  \n",
    "\n",
    "Doc2Vec was clearly a winner while predicting the sentiment for Twitter feeds.  \n",
    "Using traditional Bag-of-Words model, Naive Bayes classification gave an accuracy of only 70%. Logistic Regression with Stochastic Gradient Descent merely touched 69%.\n",
    "\n",
    "Twitter feeds may contain a lot of words which are misspelled and grammatically incorrect. Capturing sentiment using a traditional bag-of-words model would be a daunting task due to a variety of unique words that get generated. They lose the ordering of the words and also ignore semantics.   \n",
    "\n",
    "**Doc2Vec - The Advantage**  \n",
    "\n",
    "Doc2Vec represents each document by a dense vector which is trained to predict words in the document even though they are mispelled and gramatically incorrect. This model built on an algorithm called Distributed Memory (DM) which uses a sliding context window to predict a (typically) center word, thus, word *proximity* matters. Also, random windows *up to* the configured size are used, so closer words are more often trained, meaning relative proximity also matters. \n",
    "\n",
    "Its construction gives the algorithm the potential to overcome the weaknesses of bag-of words models. Empirical results show that Paragraph Vectors outperform bag-of-words models as well as other techniques for text representations. This technique has already achieved new state-of-the-art results on several text classification and sentiment\n",
    "analysis tasks.\n",
    "\n"
   ]
  },
  {
   "cell_type": "markdown",
   "metadata": {},
   "source": [
    "## References\n",
    "1. [Doc2Vec Tutorial by Radim Rehurek](https://rare-technologies.com/doc2vec-tutorial/)\n",
    "2. Quora - [How does doc2vec represent feature vector of a document](https://www.quora.com/How-does-doc2vec-represent-feature-vector-of-a-document-Can-anyone-explain-mathematically-how-the-process-is-done)\n",
    "3. [Modern Methods for Sentiment Analysis by Michael Czerny](https://districtdatalabs.silvrback.com/modern-methods-for-sentiment-analysis)\n",
    "4. [Deep learning with paragraph2vec](http://radimrehurek.com/gensim/models/doc2vec.html#gensim.models.doc2vec.LabeledSentence)\n",
    "5. [Sentiment Analysis Using Doc2Vec](http://linanqiu.github.io/2015/10/07/word2vec-sentiment/)\n",
    "6. [Distributed Representations of Sentences and Documents by Quoc Le and Tomas Mikolov](https://cs.stanford.edu/~quocle/paragraph_vector.pdf)\n",
    "\n"
   ]
  },
  {
   "cell_type": "code",
   "execution_count": null,
   "metadata": {
    "collapsed": true
   },
   "outputs": [],
   "source": []
  }
 ],
 "metadata": {
  "kernelspec": {
   "display_name": "Python 3",
   "language": "python",
   "name": "python3"
  },
  "language_info": {
   "codemirror_mode": {
    "name": "ipython",
    "version": 3
   },
   "file_extension": ".py",
   "mimetype": "text/x-python",
   "name": "python",
   "nbconvert_exporter": "python",
   "pygments_lexer": "ipython3",
   "version": "3.6.0"
  }
 },
 "nbformat": 4,
 "nbformat_minor": 2
}
